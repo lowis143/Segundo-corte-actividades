{
  "nbformat": 4,
  "nbformat_minor": 0,
  "metadata": {
    "colab": {
      "provenance": [],
      "collapsed_sections": []
    },
    "kernelspec": {
      "name": "python3",
      "display_name": "Python 3"
    },
    "language_info": {
      "name": "python"
    }
  },
  "cells": [
    {
      "cell_type": "markdown",
      "source": [
        "#Listas por comprensión"
      ],
      "metadata": {
        "id": "zv3o9d8qqPKY"
      }
    },
    {
      "cell_type": "markdown",
      "source": [
        "##Ejercico samuel"
      ],
      "metadata": {
        "id": "zh77roXzrDl9"
      }
    },
    {
      "cell_type": "code",
      "source": [
        "##\n",
        "number=[1,2,3,4]\n",
        "result=[]\n",
        "for n in number:\n",
        "  result.append(n+1)\n",
        "result"
      ],
      "metadata": {
        "colab": {
          "base_uri": "https://localhost:8080/"
        },
        "id": "_XZZQycbpwQg",
        "outputId": "2c51bf33-4215-47db-c208-2a1440735f77"
      },
      "execution_count": null,
      "outputs": [
        {
          "output_type": "execute_result",
          "data": {
            "text/plain": [
              "[2, 3, 4, 5]"
            ]
          },
          "metadata": {},
          "execution_count": 25
        }
      ]
    },
    {
      "cell_type": "code",
      "source": [
        "number=[1,2,3,4]\n",
        "result=[n+1 for n in number if n<5]\n",
        "result"
      ],
      "metadata": {
        "colab": {
          "base_uri": "https://localhost:8080/"
        },
        "id": "ZACMIaeXqBp2",
        "outputId": "4f3a11ab-b4be-4a17-a67d-0f36ef6e4b37"
      },
      "execution_count": null,
      "outputs": [
        {
          "output_type": "execute_result",
          "data": {
            "text/plain": [
              "[2, 3, 4, 5]"
            ]
          },
          "metadata": {},
          "execution_count": 27
        }
      ]
    },
    {
      "cell_type": "code",
      "source": [
        "result2=lambda number:result\n",
        "print(result2(number))"
      ],
      "metadata": {
        "colab": {
          "base_uri": "https://localhost:8080/"
        },
        "id": "9B3Zx2dbqRqw",
        "outputId": "9324ee03-acbc-4ac8-8982-f45c7975aab8"
      },
      "execution_count": null,
      "outputs": [
        {
          "output_type": "stream",
          "name": "stdout",
          "text": [
            "[2, 3, 4, 5]\n"
          ]
        }
      ]
    },
    {
      "cell_type": "markdown",
      "source": [
        "##ejercicio jhonsito "
      ],
      "metadata": {
        "id": "IMGCx1KdrMs3"
      }
    },
    {
      "cell_type": "code",
      "source": [
        "#Ejercico (número perfecto)\n",
        "\n",
        "def perfecto(numero):\n",
        "  perf=0\n",
        "  for i in range (1,numero):\n",
        "    if numero %i==0:\n",
        "      perf+=i\n",
        "  if perf ==numero:\n",
        "    print('es numero perfecto')\n",
        "    return True\n",
        "  else:\n",
        "    print('no es un numero perfecto')\n",
        "numero=6\n",
        "perfecto(numero)"
      ],
      "metadata": {
        "colab": {
          "base_uri": "https://localhost:8080/"
        },
        "id": "sR2E9DZUmkwR",
        "outputId": "1133c190-e9c1-4f5e-d9e6-f1266a2f1c8f"
      },
      "execution_count": null,
      "outputs": [
        {
          "output_type": "stream",
          "name": "stdout",
          "text": [
            "es numero perfecto\n"
          ]
        },
        {
          "output_type": "execute_result",
          "data": {
            "text/plain": [
              "True"
            ]
          },
          "metadata": {},
          "execution_count": 28
        }
      ]
    },
    {
      "cell_type": "code",
      "source": [
        "def numeros():\n",
        "  a=int(input('ingresa un número'))\n",
        "  b=int(input('ingresa un número'))\n",
        "  c=int(input('ingresa un número'))\n",
        "  d=int(input('ingresa un número'))\n",
        "  perfect=[a,b,c,d]\n",
        "\n",
        "  perfect1=[elemento for elemento in perfect if perfecto(elemento)==True]\n",
        "numeros() "
      ],
      "metadata": {
        "colab": {
          "base_uri": "https://localhost:8080/"
        },
        "id": "p6CwqmytnZh5",
        "outputId": "73ed5c28-7f28-49d4-a8b9-441ed2a3d4d0"
      },
      "execution_count": null,
      "outputs": [
        {
          "output_type": "stream",
          "name": "stdout",
          "text": [
            "ingresa un número5\n",
            "ingresa un número5\n",
            "ingresa un número6\n",
            "ingresa un número8\n",
            "no es un numero perfecto\n",
            "no es un numero perfecto\n",
            "es numero perfecto\n",
            "no es un numero perfecto\n"
          ]
        }
      ]
    },
    {
      "cell_type": "code",
      "source": [
        "lista=[2,3,6,4]\n",
        "#lambda y map\n",
        "perfect2=list(map(lambda elemento:perfecto(elemento)==True,lista))"
      ],
      "metadata": {
        "colab": {
          "base_uri": "https://localhost:8080/"
        },
        "id": "9BnqRzKPn16W",
        "outputId": "36a4619d-9882-4643-b4a4-f9e20db90dac"
      },
      "execution_count": null,
      "outputs": [
        {
          "output_type": "stream",
          "name": "stdout",
          "text": [
            "no es un numero perfecto\n",
            "no es un numero perfecto\n",
            "es numero perfecto\n",
            "no es un numero perfecto\n"
          ]
        }
      ]
    },
    {
      "cell_type": "markdown",
      "source": [
        "##Ejercicio jesus"
      ],
      "metadata": {
        "id": "-uiZXhoDrIK-"
      }
    },
    {
      "cell_type": "code",
      "source": [
        "##\n",
        "n=int(input(\"Hasta que número quieres imprimir los pares e impares:\"))\n",
        "pares=[número for número in range(0,n+1) if número%2==0]\n",
        "print(pares)\n",
        "impares=[número for número in range(0,n+1) if número%2!=0]\n",
        "print(impares)"
      ],
      "metadata": {
        "colab": {
          "base_uri": "https://localhost:8080/"
        },
        "id": "IFT_29Pzlp3k",
        "outputId": "feb3c4e8-1ab9-49d3-b57a-c8b2d86262f5"
      },
      "execution_count": null,
      "outputs": [
        {
          "output_type": "stream",
          "name": "stdout",
          "text": [
            "Hasta que número quieres imprimir los pares e impares:8\n",
            "[0, 2, 4, 6, 8]\n",
            "[1, 3, 5, 7]\n"
          ]
        }
      ]
    },
    {
      "cell_type": "code",
      "source": [
        "num=int(input(\"Hasta que número quieres imprimir los pares e impares\"))\n",
        "def hola(n):\n",
        "  pares=[número for número in range(0,n+1) if número%2==0]\n",
        "  print(pares)\n",
        "  impares=[número for número in range(0,n+1) if número%2!=0]\n",
        "  print(impares)\n",
        "hola(num)"
      ],
      "metadata": {
        "colab": {
          "base_uri": "https://localhost:8080/"
        },
        "id": "4390XE25mK4S",
        "outputId": "3998758f-c77f-463c-eb2d-8e0e172d7fec"
      },
      "execution_count": null,
      "outputs": [
        {
          "output_type": "stream",
          "name": "stdout",
          "text": [
            "Hasta que número quieres imprimir los pares e impares6\n",
            "[0, 2, 4, 6]\n",
            "[1, 3, 5]\n"
          ]
        }
      ]
    },
    {
      "cell_type": "code",
      "source": [
        "num=int(input(\"Hasta que número quieres imprimir los pares e impares: \"))\n",
        "mi_lista=[n for n in range(0,num+1)]\n",
        "pares=list(filter(lambda num:num%2==0,mi_lista))\n",
        "print(pares)\n",
        "impares=list(filter(lambda num:num%2!=0,mi_lista))\n",
        "print(impares)"
      ],
      "metadata": {
        "colab": {
          "base_uri": "https://localhost:8080/"
        },
        "id": "w8aQDT1IopnQ",
        "outputId": "5c47eb8b-a627-49d4-af1c-c82eb900bc50"
      },
      "execution_count": null,
      "outputs": [
        {
          "output_type": "stream",
          "name": "stdout",
          "text": [
            "Hasta que número quieres imprimir los pares e impares: 6\n",
            "[0, 2, 4, 6]\n",
            "[1, 3, 5]\n"
          ]
        }
      ]
    },
    {
      "cell_type": "markdown",
      "source": [
        "##Ejercicio juandivox"
      ],
      "metadata": {
        "id": "LvT1EO3toeDZ"
      }
    },
    {
      "cell_type": "code",
      "source": [
        "#metodo clásico\n",
        "import random\n",
        "numero1= [random.randint(0,2000) for x in range(100)]\n",
        "numero2= [random.randint(0,2000) for x in range(100)]\n",
        "comun=[]\n",
        "for a in numero1:\n",
        "  for b in numero2:\n",
        "    if a == b:\n",
        "      comun.append(a)\n",
        "print(comun)"
      ],
      "metadata": {
        "colab": {
          "base_uri": "https://localhost:8080/"
        },
        "id": "S7tKIHERodzx",
        "outputId": "df93670c-1fc7-468b-c5ce-c68d96752edb"
      },
      "execution_count": null,
      "outputs": [
        {
          "output_type": "stream",
          "name": "stdout",
          "text": [
            "[384, 296, 103, 1061, 1406]\n"
          ]
        }
      ]
    },
    {
      "cell_type": "code",
      "source": [
        "import random\n",
        "numero1= [random.randint(0,2000) for x in range(100)]\n",
        "numero2= [random.randint(0,2000) for x in range(100)]\n",
        "comun=[]\n",
        "comun=list(filter(lambda num:num in numero1,numero2))\n",
        "print(comun)"
      ],
      "metadata": {
        "colab": {
          "base_uri": "https://localhost:8080/"
        },
        "id": "WQRIF_MxoaDR",
        "outputId": "e9959f25-4324-4a09-9a28-0f42c915eb8b"
      },
      "execution_count": null,
      "outputs": [
        {
          "output_type": "stream",
          "name": "stdout",
          "text": [
            "[1221, 756, 1021, 1038]\n"
          ]
        }
      ]
    },
    {
      "cell_type": "code",
      "source": [
        "import random\n",
        "numero1= [random.randint(0,2000) for x in range(100)]\n",
        "numero2= [random.randint(0,2000) for x in range(100)]\n",
        "comun=[x for x in numero1 for y in numero2 if x==y]\n",
        "print(comun)"
      ],
      "metadata": {
        "colab": {
          "base_uri": "https://localhost:8080/"
        },
        "id": "VKBg2xcmp9kH",
        "outputId": "f69bdf31-200f-4f25-86df-4eea578b42f8"
      },
      "execution_count": null,
      "outputs": [
        {
          "output_type": "stream",
          "name": "stdout",
          "text": [
            "[968, 730, 1180, 1180]\n"
          ]
        }
      ]
    },
    {
      "cell_type": "markdown",
      "source": [
        "##Ejercicio Daniel "
      ],
      "metadata": {
        "id": "w_C0DrosqI53"
      }
    },
    {
      "cell_type": "code",
      "source": [
        "#Normal\n",
        "def square1(num):\n",
        "  return num**2\n",
        "print(square1(5))"
      ],
      "metadata": {
        "colab": {
          "base_uri": "https://localhost:8080/"
        },
        "id": "LqJsdhCnqLBP",
        "outputId": "640717fd-ea75-49de-8e0b-d9a8ba62fb0b"
      },
      "execution_count": null,
      "outputs": [
        {
          "output_type": "stream",
          "name": "stdout",
          "text": [
            "25\n"
          ]
        }
      ]
    },
    {
      "cell_type": "code",
      "source": [
        "#Comprensión\n",
        "L=[2,4,6,8]\n",
        "L2=[n**2 for n in L]\n",
        "print(L2)"
      ],
      "metadata": {
        "colab": {
          "base_uri": "https://localhost:8080/"
        },
        "id": "Ukjuste7qX9G",
        "outputId": "098e1941-8cf0-4dc6-8212-61f95d449475"
      },
      "execution_count": null,
      "outputs": [
        {
          "output_type": "stream",
          "name": "stdout",
          "text": [
            "[4, 16, 36, 64]\n"
          ]
        }
      ]
    },
    {
      "cell_type": "code",
      "source": [
        "#lambda\n",
        "lambda_func= lambda x: x**2\n",
        "lambda_func(3)"
      ],
      "metadata": {
        "colab": {
          "base_uri": "https://localhost:8080/"
        },
        "id": "6RnLSqzTqYWP",
        "outputId": "acf38fe1-66df-414d-abe9-cee72fec2ee7"
      },
      "execution_count": null,
      "outputs": [
        {
          "output_type": "execute_result",
          "data": {
            "text/plain": [
              "9"
            ]
          },
          "metadata": {},
          "execution_count": 41
        }
      ]
    },
    {
      "cell_type": "markdown",
      "source": [
        "##Ejercicio Angie"
      ],
      "metadata": {
        "id": "voGfvnmlr1sV"
      }
    },
    {
      "cell_type": "code",
      "source": [
        "nom1=['Samuelle','Angie','Valentina','Alejandro','Jonsito']\n",
        "nom2=['Samuelle','Andrea','Sandra','Anderson','Jonsito']"
      ],
      "metadata": {
        "id": "r5oFyZaIsPjO"
      },
      "execution_count": null,
      "outputs": []
    },
    {
      "cell_type": "code",
      "source": [
        "#Por comprensión \n",
        "common={a for a in nom1 for b in nom2 if a==b}\n",
        "common"
      ],
      "metadata": {
        "colab": {
          "base_uri": "https://localhost:8080/"
        },
        "id": "IioKxyJJshgN",
        "outputId": "33ac797c-2f17-40b3-9916-0341ff12ec6a"
      },
      "execution_count": null,
      "outputs": [
        {
          "output_type": "execute_result",
          "data": {
            "text/plain": [
              "{'Jonsito', 'Samuelle'}"
            ]
          },
          "metadata": {},
          "execution_count": 48
        }
      ]
    },
    {
      "cell_type": "code",
      "source": [
        "#Por lambda\n",
        "common1=lambda nom1,nom2:common\n",
        "print(common1(nom1,nom2))"
      ],
      "metadata": {
        "colab": {
          "base_uri": "https://localhost:8080/"
        },
        "id": "Px2jYCUFtqRb",
        "outputId": "e3c80024-0c3b-4ec7-8ddd-5513bfe9d995"
      },
      "execution_count": null,
      "outputs": [
        {
          "output_type": "stream",
          "name": "stdout",
          "text": [
            "{'Samuelle', 'Jonsito'}\n"
          ]
        }
      ]
    },
    {
      "cell_type": "code",
      "source": [
        "def common(nom1,nom2):\n",
        "  return nom1,nom2\n"
      ],
      "metadata": {
        "id": "_89JinQGsCm0"
      },
      "execution_count": null,
      "outputs": []
    },
    {
      "cell_type": "code",
      "source": [
        "nom1,nom2"
      ],
      "metadata": {
        "colab": {
          "base_uri": "https://localhost:8080/"
        },
        "id": "aDlTBY9it-RT",
        "outputId": "d4fd9a25-5f05-442a-ef73-8cddb989eaf4"
      },
      "execution_count": null,
      "outputs": [
        {
          "output_type": "execute_result",
          "data": {
            "text/plain": [
              "(['Samuelle', 'Angie', 'Valentina', 'Alejandro', 'Jonsito'],\n",
              " ['Samuelle', 'Andrea', 'Sandra', 'Anderson', 'Jonsito'])"
            ]
          },
          "metadata": {},
          "execution_count": 52
        }
      ]
    },
    {
      "cell_type": "markdown",
      "source": [
        "##Ejercicio Valentina"
      ],
      "metadata": {
        "id": "nmRNMKCuu5Va"
      }
    },
    {
      "cell_type": "code",
      "source": [
        "#Tradicional\n",
        "def listaIMC(usuarios):\n",
        "  sis=[]\n",
        "  imc=[]\n",
        "  b=0\n",
        "  a2=0\n",
        "  for n in range (usuarios):\n",
        "    w=input(\"¿cuál es tu nombre?\")\n",
        "    b=int(input(\"Ingresa el peso\"))\n",
        "    a2=int(input(\"Ingresa la altura\"))\n",
        "    sis.append((w,b/a2**2))\n",
        "    imc.append(b/a2**2)\n",
        "  return sis,imc\n",
        "\n",
        "user=int(input(\"¿cuántos usuarios hay?\"))\n",
        "sis,imc=listaIMC(user)"
      ],
      "metadata": {
        "colab": {
          "base_uri": "https://localhost:8080/"
        },
        "id": "7sdQCpLDu7vj",
        "outputId": "dd1bf95e-0274-465b-b1a2-ee16cf87f82f"
      },
      "execution_count": null,
      "outputs": [
        {
          "name": "stdout",
          "output_type": "stream",
          "text": [
            "¿cuántos usuarios hay?2\n",
            "¿cuál es tu nombre?luis\n",
            "Ingresa el peso15\n",
            "Ingresa la altura20\n",
            "¿cuál es tu nombre?karol\n",
            "Ingresa el peso30\n",
            "Ingresa la altura60\n"
          ]
        }
      ]
    },
    {
      "cell_type": "code",
      "source": [
        "imc"
      ],
      "metadata": {
        "colab": {
          "base_uri": "https://localhost:8080/"
        },
        "id": "O4_FvW9uu8ES",
        "outputId": "57bdde05-0748-48c4-97f1-69836ddea8a8"
      },
      "execution_count": null,
      "outputs": [
        {
          "output_type": "execute_result",
          "data": {
            "text/plain": [
              "[0.0375, 0.008333333333333333]"
            ]
          },
          "metadata": {},
          "execution_count": 54
        }
      ]
    },
    {
      "cell_type": "code",
      "source": [
        "#comprensión\n",
        "sis=listaIMC(user)\n",
        "sis2=[n for n in imc if n>= 18.5]\n",
        "print(sis2)\n"
      ],
      "metadata": {
        "colab": {
          "base_uri": "https://localhost:8080/"
        },
        "id": "fzT9Bpc8u8fK",
        "outputId": "d387e8be-960e-428f-b7da-0b9283aca236"
      },
      "execution_count": null,
      "outputs": [
        {
          "output_type": "stream",
          "name": "stdout",
          "text": [
            "¿cuál es tu nombre?luis\n",
            "Ingresa el peso20\n",
            "Ingresa la altura14\n",
            "¿cuál es tu nombre?luis\n",
            "Ingresa el peso52\n",
            "Ingresa la altura30\n",
            "[]\n"
          ]
        }
      ]
    },
    {
      "cell_type": "code",
      "source": [
        "sis"
      ],
      "metadata": {
        "colab": {
          "base_uri": "https://localhost:8080/"
        },
        "id": "TUfT8t030nmn",
        "outputId": "d4600914-fb70-46de-96f4-42994fdaa93f"
      },
      "execution_count": null,
      "outputs": [
        {
          "output_type": "execute_result",
          "data": {
            "text/plain": [
              "([('luis', 0.10204081632653061), ('luis', 0.057777777777777775)],\n",
              " [0.10204081632653061, 0.057777777777777775])"
            ]
          },
          "metadata": {},
          "execution_count": 56
        }
      ]
    },
    {
      "cell_type": "code",
      "source": [
        "#Lambda\n",
        "sis3=list(map(lambda x: \"peso insuficiente\" if x<18.5 else \"peso normal\" if (x>=18.5 and x<24.9)else \"sobrepeso\" if (x>=24.9 and x<30) else \"obesidad\",imc))\n",
        "sis3"
      ],
      "metadata": {
        "colab": {
          "base_uri": "https://localhost:8080/"
        },
        "id": "LrlAX_vN0px_",
        "outputId": "ba7bd928-cd75-463b-99d5-5877c2b79cfd"
      },
      "execution_count": null,
      "outputs": [
        {
          "output_type": "execute_result",
          "data": {
            "text/plain": [
              "['peso insuficiente', 'peso insuficiente']"
            ]
          },
          "metadata": {},
          "execution_count": 58
        }
      ]
    },
    {
      "cell_type": "markdown",
      "source": [
        "##Ejercicio Luis Miguel"
      ],
      "metadata": {
        "id": "0Mo5HSvq87AT"
      }
    },
    {
      "cell_type": "code",
      "source": [
        "#normal \n",
        "print(\"ingrese su código \")\n",
        "caracter=input()\n",
        "if len(caracter)==8:\n",
        "  if caracter[0]=='u':\n",
        "    print(\"Eres estudiante Unab\")\n",
        "  elif(caracter.startswith(\"a000\")):\n",
        "    print(\"Eres estudiantes de los Andes\")\n",
        "  else:\n",
        "    if(int(caracter)>=1950):\n",
        "      print(\"Eres estudiante UIS\")\n",
        "else:\n",
        "  print(\"No corresponde a ninguna universidad, revisa tú código\")"
      ],
      "metadata": {
        "colab": {
          "base_uri": "https://localhost:8080/"
        },
        "id": "88_Werc5Y_LL",
        "outputId": "a2a1342b-f2ca-41ee-8bc6-adc42f948e10"
      },
      "execution_count": null,
      "outputs": [
        {
          "output_type": "stream",
          "name": "stdout",
          "text": [
            "ingrese su código \n",
            "u0123456\n",
            "Eres estudiante Unab\n"
          ]
        }
      ]
    },
    {
      "cell_type": "code",
      "source": [
        "#por comprensión \n",
        "universidades=[\"unab\",\"uis\",\"andes\"]\n",
        "codigo=[\"U0123456\",\"198562\",\"a0005645\"]\n",
        "\n",
        "u=[cod for cod in codigo if (cod[0]=='u' and len(cod)==8)] \n",
        "print(u)"
      ],
      "metadata": {
        "colab": {
          "base_uri": "https://localhost:8080/"
        },
        "id": "uTpWe7-c86mP",
        "outputId": "fad12ddc-0bf9-4822-f712-ab7bf1d49dbf"
      },
      "execution_count": null,
      "outputs": [
        {
          "output_type": "stream",
          "name": "stdout",
          "text": [
            "['u0123456']\n"
          ]
        }
      ]
    },
    {
      "cell_type": "code",
      "source": [
        "#Lambda\n",
        "y=list(map(lambda x:\"unab\" if (x[0]==\"U\" or x[0]==\"u\") else None, codigo))\n",
        "print(y)"
      ],
      "metadata": {
        "colab": {
          "base_uri": "https://localhost:8080/"
        },
        "id": "XzUDogzwg_oN",
        "outputId": "a7dedc21-3b03-42c2-c474-4aebe8058fd6"
      },
      "execution_count": null,
      "outputs": [
        {
          "output_type": "stream",
          "name": "stdout",
          "text": [
            "['unab', None, None]\n"
          ]
        }
      ]
    },
    {
      "cell_type": "markdown",
      "source": [
        "##Cristhian"
      ],
      "metadata": {
        "id": "kV4MWMe41ZFs"
      }
    },
    {
      "cell_type": "code",
      "source": [
        "lista=[]\n",
        "x=0\n",
        "while x==0:\n",
        "  entrada=input(\"ingresa un codigo\")\n",
        "  lista.append(entrada)\n",
        "  a=int(input(\"Deseas ingresar otro?, ingresa 0 si lo deseas, si no ingresa 1 \"))\n",
        "  if (a==1):\n",
        "    x=x+1\n",
        "clasificacion=[a for a in lista if a.startswith(\"U00\")and len(a)==9]\n",
        "print(f'Hay {len(clasificacion)} estudiantes(s) de la Unab y sus codigos(s) son {clasificacion}')\n",
        "\n",
        "clasificación=[a for a in lista if a.startswith(\"A000\")and len(a)==9]\n",
        "print(f'Hay {len(clasificacion)} estudiantes(s) de los Andes y sus codigos(s) son {clasificacion}')"
      ],
      "metadata": {
        "colab": {
          "base_uri": "https://localhost:8080/"
        },
        "id": "Ldw1TRsE1Z0c",
        "outputId": "55f1bca7-8c38-4f9c-c4dc-a173b2a0ab80"
      },
      "execution_count": 8,
      "outputs": [
        {
          "output_type": "stream",
          "name": "stdout",
          "text": [
            "ingresa un codigoU00123456\n",
            "Deseas ingresar otro?, ingresa 0 si lo deseas, si no ingresa 1 1\n",
            "Hay 1 estudiantes(s) de la Unab y sus codigos(s) son ['U00123456']\n",
            "Hay 1 estudiantes(s) de los Andes y sus codigos(s) son ['U00123456']\n"
          ]
        }
      ]
    },
    {
      "cell_type": "code",
      "source": [
        "def funcion(lista, numDigitos, Universidad,clasCodigo):\n",
        "  clasificacion=[a for a in lista if a.startswith(clasCodigo) and len(a)==numDigitos]\n",
        "  print(f'Hay {len(clasificacion)} estudiantes(s) de {Universidad} y sus codigos(s) son {clasificacion}')\n",
        "lista=[]\n",
        "x=0\n",
        "while x==0:\n",
        "  entrada=input(\"ingresa un código\")\n",
        "  lista.append(entrada)\n",
        "  a=int(input(\"Deseas ingresar otro?, ingresa 0 si lo deseas, y 1 si no quieres\"))\n",
        "  if(a==1):\n",
        "    x=x+1\n",
        "funcion(lista,9,'la Unab','U00')\n",
        "funcion(lista,9,'los Andes','A000')"
      ],
      "metadata": {
        "colab": {
          "base_uri": "https://localhost:8080/"
        },
        "id": "AX-gT02P1Z_t",
        "outputId": "db76aba4-4183-4f44-e339-ea8e7046527b"
      },
      "execution_count": 9,
      "outputs": [
        {
          "output_type": "stream",
          "name": "stdout",
          "text": [
            "ingresa un códigoU00123654\n",
            "Deseas ingresar otro?, ingresa 0 si lo deseas, y 1 si no quieres1\n",
            "Hay 1 estudiantes(s) de la Unab y sus codigos(s) son ['U00123654']\n",
            "Hay 0 estudiantes(s) de los Andes y sus codigos(s) son []\n"
          ]
        }
      ]
    },
    {
      "cell_type": "code",
      "source": [
        "lista=[]\n",
        "x=0\n",
        "while x==0:\n",
        "  entrada =input(\"Ingresa un código\")\n",
        "  lista.append(entrada)\n",
        "  a=int(input(\"desea ingresar otro?, ingresa 0 si deseas o 1 si no\"))\n",
        "  if (a==1):\n",
        "    x=x+1\n",
        "lista1=[\"u00013246\",\"a001234643\",\"U00156837\"]\n",
        "clasificacion=list(map(lambda a: \"UNAB\" if a.startswith(\"U00\") or a.starstwith(\"u00\") else 'Los Andes' if a.startswith(\"A000\") or a.startswith(\"a000\") else None ,lista))\n",
        "clasificacion"
      ],
      "metadata": {
        "id": "MdP8XrC01au8",
        "colab": {
          "base_uri": "https://localhost:8080/",
          "height": 356
        },
        "outputId": "32dabc7b-de70-43dc-90a4-19d148237778"
      },
      "execution_count": 18,
      "outputs": [
        {
          "name": "stdout",
          "output_type": "stream",
          "text": [
            "Ingresa un códigou0023654\n",
            "desea ingresar otro?, ingresa 0 si deseas o 1 si no1\n"
          ]
        },
        {
          "output_type": "error",
          "ename": "AttributeError",
          "evalue": "ignored",
          "traceback": [
            "\u001b[0;31m---------------------------------------------------------------------------\u001b[0m",
            "\u001b[0;31mAttributeError\u001b[0m                            Traceback (most recent call last)",
            "\u001b[0;32m<ipython-input-18-978325133c2c>\u001b[0m in \u001b[0;36m<module>\u001b[0;34m\u001b[0m\n\u001b[1;32m      8\u001b[0m     \u001b[0mx\u001b[0m\u001b[0;34m=\u001b[0m\u001b[0mx\u001b[0m\u001b[0;34m+\u001b[0m\u001b[0;36m1\u001b[0m\u001b[0;34m\u001b[0m\u001b[0;34m\u001b[0m\u001b[0m\n\u001b[1;32m      9\u001b[0m \u001b[0mlista1\u001b[0m\u001b[0;34m=\u001b[0m\u001b[0;34m[\u001b[0m\u001b[0;34m\"u00013246\"\u001b[0m\u001b[0;34m,\u001b[0m\u001b[0;34m\"a001234643\"\u001b[0m\u001b[0;34m,\u001b[0m\u001b[0;34m\"U00156837\"\u001b[0m\u001b[0;34m]\u001b[0m\u001b[0;34m\u001b[0m\u001b[0;34m\u001b[0m\u001b[0m\n\u001b[0;32m---> 10\u001b[0;31m \u001b[0mclasificacion\u001b[0m\u001b[0;34m=\u001b[0m\u001b[0mlist\u001b[0m\u001b[0;34m(\u001b[0m\u001b[0mmap\u001b[0m\u001b[0;34m(\u001b[0m\u001b[0;32mlambda\u001b[0m \u001b[0ma\u001b[0m\u001b[0;34m:\u001b[0m \u001b[0;34m\"UNAB\"\u001b[0m \u001b[0;32mif\u001b[0m \u001b[0ma\u001b[0m\u001b[0;34m.\u001b[0m\u001b[0mstartswith\u001b[0m\u001b[0;34m(\u001b[0m\u001b[0;34m\"U00\"\u001b[0m\u001b[0;34m)\u001b[0m \u001b[0;32mor\u001b[0m \u001b[0ma\u001b[0m\u001b[0;34m.\u001b[0m\u001b[0mstarstwith\u001b[0m\u001b[0;34m(\u001b[0m\u001b[0;34m\"u00\"\u001b[0m\u001b[0;34m)\u001b[0m \u001b[0;32melse\u001b[0m \u001b[0;34m'Los Andes'\u001b[0m \u001b[0;32mif\u001b[0m \u001b[0ma\u001b[0m\u001b[0;34m.\u001b[0m\u001b[0mstartswith\u001b[0m\u001b[0;34m(\u001b[0m\u001b[0;34m\"A000\"\u001b[0m\u001b[0;34m)\u001b[0m \u001b[0;32mor\u001b[0m \u001b[0ma\u001b[0m\u001b[0;34m.\u001b[0m\u001b[0mstartswith\u001b[0m\u001b[0;34m(\u001b[0m\u001b[0;34m\"a000\"\u001b[0m\u001b[0;34m)\u001b[0m \u001b[0;32melse\u001b[0m \u001b[0;32mNone\u001b[0m \u001b[0;34m,\u001b[0m\u001b[0mlista\u001b[0m\u001b[0;34m)\u001b[0m\u001b[0;34m)\u001b[0m\u001b[0;34m\u001b[0m\u001b[0;34m\u001b[0m\u001b[0m\n\u001b[0m\u001b[1;32m     11\u001b[0m \u001b[0mclasificacion\u001b[0m\u001b[0;34m\u001b[0m\u001b[0;34m\u001b[0m\u001b[0m\n",
            "\u001b[0;32m<ipython-input-18-978325133c2c>\u001b[0m in \u001b[0;36m<lambda>\u001b[0;34m(a)\u001b[0m\n\u001b[1;32m      8\u001b[0m     \u001b[0mx\u001b[0m\u001b[0;34m=\u001b[0m\u001b[0mx\u001b[0m\u001b[0;34m+\u001b[0m\u001b[0;36m1\u001b[0m\u001b[0;34m\u001b[0m\u001b[0;34m\u001b[0m\u001b[0m\n\u001b[1;32m      9\u001b[0m \u001b[0mlista1\u001b[0m\u001b[0;34m=\u001b[0m\u001b[0;34m[\u001b[0m\u001b[0;34m\"u00013246\"\u001b[0m\u001b[0;34m,\u001b[0m\u001b[0;34m\"a001234643\"\u001b[0m\u001b[0;34m,\u001b[0m\u001b[0;34m\"U00156837\"\u001b[0m\u001b[0;34m]\u001b[0m\u001b[0;34m\u001b[0m\u001b[0;34m\u001b[0m\u001b[0m\n\u001b[0;32m---> 10\u001b[0;31m \u001b[0mclasificacion\u001b[0m\u001b[0;34m=\u001b[0m\u001b[0mlist\u001b[0m\u001b[0;34m(\u001b[0m\u001b[0mmap\u001b[0m\u001b[0;34m(\u001b[0m\u001b[0;32mlambda\u001b[0m \u001b[0ma\u001b[0m\u001b[0;34m:\u001b[0m \u001b[0;34m\"UNAB\"\u001b[0m \u001b[0;32mif\u001b[0m \u001b[0ma\u001b[0m\u001b[0;34m.\u001b[0m\u001b[0mstartswith\u001b[0m\u001b[0;34m(\u001b[0m\u001b[0;34m\"U00\"\u001b[0m\u001b[0;34m)\u001b[0m \u001b[0;32mor\u001b[0m \u001b[0ma\u001b[0m\u001b[0;34m.\u001b[0m\u001b[0mstarstwith\u001b[0m\u001b[0;34m(\u001b[0m\u001b[0;34m\"u00\"\u001b[0m\u001b[0;34m)\u001b[0m \u001b[0;32melse\u001b[0m \u001b[0;34m'Los Andes'\u001b[0m \u001b[0;32mif\u001b[0m \u001b[0ma\u001b[0m\u001b[0;34m.\u001b[0m\u001b[0mstartswith\u001b[0m\u001b[0;34m(\u001b[0m\u001b[0;34m\"A000\"\u001b[0m\u001b[0;34m)\u001b[0m \u001b[0;32mor\u001b[0m \u001b[0ma\u001b[0m\u001b[0;34m.\u001b[0m\u001b[0mstartswith\u001b[0m\u001b[0;34m(\u001b[0m\u001b[0;34m\"a000\"\u001b[0m\u001b[0;34m)\u001b[0m \u001b[0;32melse\u001b[0m \u001b[0;32mNone\u001b[0m \u001b[0;34m,\u001b[0m\u001b[0mlista\u001b[0m\u001b[0;34m)\u001b[0m\u001b[0;34m)\u001b[0m\u001b[0;34m\u001b[0m\u001b[0;34m\u001b[0m\u001b[0m\n\u001b[0m\u001b[1;32m     11\u001b[0m \u001b[0mclasificacion\u001b[0m\u001b[0;34m\u001b[0m\u001b[0;34m\u001b[0m\u001b[0m\n",
            "\u001b[0;31mAttributeError\u001b[0m: 'str' object has no attribute 'starstwith'"
          ]
        }
      ]
    },
    {
      "cell_type": "code",
      "source": [
        "lista1=[\"u00013246\",\"a001234643\",\"U00156837\"]\n",
        "clasificacion=list(map(lambda a:print(f'Hay{len(clasificacion)}estudiantes de la unab') if a.startswith(\"U00\") or a.startswith(\"u00\") else print(f'hat{len(clasificacion)}')"
      ],
      "metadata": {
        "colab": {
          "base_uri": "https://localhost:8080/",
          "height": 130
        },
        "id": "nfvlKfx9wvb1",
        "outputId": "3fbd4ca5-0aed-4412-9daf-33476cc3dab9"
      },
      "execution_count": 7,
      "outputs": [
        {
          "output_type": "error",
          "ename": "SyntaxError",
          "evalue": "ignored",
          "traceback": [
            "\u001b[0;36m  File \u001b[0;32m\"<ipython-input-7-76e86939939f>\"\u001b[0;36m, line \u001b[0;32m2\u001b[0m\n\u001b[0;31m    clasificacion=list(map(lambda a:print(f'Hay{len(clasificacion)}estudiantes de la unab') if a.startswith(\"U00\") or a.startswith(\"u00\") else print(f'hat{len(clasificacion)}')\u001b[0m\n\u001b[0m                                                                                                                                                                                ^\u001b[0m\n\u001b[0;31mSyntaxError\u001b[0m\u001b[0;31m:\u001b[0m unexpected EOF while parsing\n"
          ]
        }
      ]
    },
    {
      "cell_type": "markdown",
      "source": [
        "##Ejercicio Armith"
      ],
      "metadata": {
        "id": "s_2Ny4W35A97"
      }
    },
    {
      "cell_type": "code",
      "source": [
        "from traitlets.utils import expand_path\n",
        "#Tradicional\n",
        "num=[1,2,3,4,5,6,7,8,9,10]\n",
        "exp=int(input(\"Escriba sus exponentes: \"))\n",
        "x=len(num)\n",
        "for n in range(1,(x)):\n",
        "  num[n]=num[n]**exp\n",
        "print(num)\n",
        "def imprimir(num):\n",
        "  s=1\n",
        "  for i in num:\n",
        "    print(f\"\\nEl resultado del elemento{s} de la lista es {i}\")\n",
        "    s+=1\n",
        "imprimir(num)"
      ],
      "metadata": {
        "id": "g7RuhwhT5DQ7",
        "colab": {
          "base_uri": "https://localhost:8080/"
        },
        "outputId": "9eb28d9e-5aa5-4aa7-cf36-db8a755e9ddb"
      },
      "execution_count": 13,
      "outputs": [
        {
          "output_type": "stream",
          "name": "stdout",
          "text": [
            "Escriba sus exponentes: 5\n",
            "[1, 32, 243, 1024, 3125, 7776, 16807, 32768, 59049, 100000]\n",
            "\n",
            "El resultado del elemento1 de la lista es 1\n",
            "\n",
            "El resultado del elemento2 de la lista es 32\n",
            "\n",
            "El resultado del elemento3 de la lista es 243\n",
            "\n",
            "El resultado del elemento4 de la lista es 1024\n",
            "\n",
            "El resultado del elemento5 de la lista es 3125\n",
            "\n",
            "El resultado del elemento6 de la lista es 7776\n",
            "\n",
            "El resultado del elemento7 de la lista es 16807\n",
            "\n",
            "El resultado del elemento8 de la lista es 32768\n",
            "\n",
            "El resultado del elemento9 de la lista es 59049\n",
            "\n",
            "El resultado del elemento10 de la lista es 100000\n"
          ]
        }
      ]
    },
    {
      "cell_type": "code",
      "source": [
        "#por comprensión\n",
        "num=[1,2,3,4,5,6,7,8,9,10]\n",
        "exp=int(input(\"Escriba sus exponentes: \"))\n",
        "numeros=[n**exp for n in num]\n",
        "numeros\n",
        "imprimir(numeros)\n"
      ],
      "metadata": {
        "colab": {
          "base_uri": "https://localhost:8080/"
        },
        "id": "Bgno93zOzJgI",
        "outputId": "9e532bb9-8715-41f2-fb26-39ee8a880236"
      },
      "execution_count": 15,
      "outputs": [
        {
          "output_type": "stream",
          "name": "stdout",
          "text": [
            "Escriba sus exponentes: 5\n",
            "\n",
            "El resultado del elemento1 de la lista es 1\n",
            "\n",
            "El resultado del elemento2 de la lista es 32\n",
            "\n",
            "El resultado del elemento3 de la lista es 243\n",
            "\n",
            "El resultado del elemento4 de la lista es 1024\n",
            "\n",
            "El resultado del elemento5 de la lista es 3125\n",
            "\n",
            "El resultado del elemento6 de la lista es 7776\n",
            "\n",
            "El resultado del elemento7 de la lista es 16807\n",
            "\n",
            "El resultado del elemento8 de la lista es 32768\n",
            "\n",
            "El resultado del elemento9 de la lista es 59049\n",
            "\n",
            "El resultado del elemento10 de la lista es 100000\n"
          ]
        }
      ]
    },
    {
      "cell_type": "code",
      "source": [
        "#lambda\n",
        "num=list(range(1,11))\n",
        "exp=int(input(\"escriba sus exponentes\"))\n",
        "numeros=lambda num,exp:(n**exp for n in num)\n",
        "numero1=numeros(num,exp)\n",
        "imprimir(list(numero1))"
      ],
      "metadata": {
        "colab": {
          "base_uri": "https://localhost:8080/"
        },
        "id": "NwUflUE4zkDF",
        "outputId": "adaa389d-c3a2-404b-9a93-1e6b79951a1d"
      },
      "execution_count": 16,
      "outputs": [
        {
          "output_type": "stream",
          "name": "stdout",
          "text": [
            "escriba sus exponentes5\n",
            "\n",
            "El resultado del elemento1 de la lista es 1\n",
            "\n",
            "El resultado del elemento2 de la lista es 32\n",
            "\n",
            "El resultado del elemento3 de la lista es 243\n",
            "\n",
            "El resultado del elemento4 de la lista es 1024\n",
            "\n",
            "El resultado del elemento5 de la lista es 3125\n",
            "\n",
            "El resultado del elemento6 de la lista es 7776\n",
            "\n",
            "El resultado del elemento7 de la lista es 16807\n",
            "\n",
            "El resultado del elemento8 de la lista es 32768\n",
            "\n",
            "El resultado del elemento9 de la lista es 59049\n",
            "\n",
            "El resultado del elemento10 de la lista es 100000\n"
          ]
        }
      ]
    }
  ]
}