{
  "nbformat": 4,
  "nbformat_minor": 0,
  "metadata": {
    "colab": {
      "provenance": [],
      "collapsed_sections": []
    },
    "kernelspec": {
      "name": "python3",
      "display_name": "Python 3"
    },
    "language_info": {
      "name": "python"
    }
  },
  "cells": [
    {
      "cell_type": "markdown",
      "source": [
        "#Taller de la actividad dia #30 "
      ],
      "metadata": {
        "id": "UbEpnmCvYLVo"
      }
    },
    {
      "cell_type": "markdown",
      "source": [
        "##Ejercicio1\n",
        "### Determine el mayor de dos números.\n"
      ],
      "metadata": {
        "id": "cfqfLbEGcEwi"
      }
    },
    {
      "cell_type": "code",
      "source": [
        "#estas son variables globales\n",
        "a=int(input(\"ingrese un número \"))\n",
        "b=int(input(\"ingrese un número \"))\n",
        "def mayor(a,b):\n",
        "  if a>b:\n",
        "    print(f\" {a} es el mayor\")\n",
        "  else:\n",
        "    print(f\"{b} es el mayor\")\n",
        "print(\"\")\n",
        "mayor(a,b)"
      ],
      "metadata": {
        "colab": {
          "base_uri": "https://localhost:8080/"
        },
        "id": "pUtn4OhScKd4",
        "outputId": "27712b57-8831-4108-87b5-e804319745aa"
      },
      "execution_count": null,
      "outputs": [
        {
          "output_type": "stream",
          "name": "stdout",
          "text": [
            "ingrese un número 4\n",
            "ingrese un número 6\n",
            "\n",
            "6 es el mayor\n"
          ]
        }
      ]
    },
    {
      "cell_type": "markdown",
      "source": [
        "##Ejercicio 2\n",
        "###Determine el mayor de tres números (empleando la función anterior)."
      ],
      "metadata": {
        "id": "1PoCvzcIgZKD"
      }
    },
    {
      "cell_type": "code",
      "source": [
        "#estas son variables locales\n",
        "a=int(input(\"ingrese un número \"))\n",
        "b=int(input(\"ingrese un número \"))\n",
        "c=int(input(\"ingrese un número \"))\n",
        "def mayor(a,b,c):\n",
        "  if a>b and a>c:\n",
        "    print(f\" {a} es el mayor\")\n",
        "  elif b>c and b>a:\n",
        "    print(f\"{b} es el mayor\")\n",
        "  else:\n",
        "    print(f\"{c} es el mayor\")\n",
        "print(\"\")\n",
        "mayor(a,b,c)"
      ],
      "metadata": {
        "colab": {
          "base_uri": "https://localhost:8080/"
        },
        "id": "IWzhhAHkdkGj",
        "outputId": "50b0b557-0b82-4238-8ed4-d154f7a79d25"
      },
      "execution_count": null,
      "outputs": [
        {
          "output_type": "stream",
          "name": "stdout",
          "text": [
            "ingrese un número 5\n",
            "ingrese un número 6\n",
            "ingrese un número 7\n",
            "\n",
            "7 es el mayor\n"
          ]
        }
      ]
    },
    {
      "cell_type": "markdown",
      "source": [
        "##Ejercicio 3\n",
        "#### Sumar los números de una lista de 3 elementos. Ejemplo [3,4,5]. Salida: 12"
      ],
      "metadata": {
        "id": "NFkanBpaYRxP"
      }
    },
    {
      "cell_type": "code",
      "execution_count": null,
      "metadata": {
        "colab": {
          "base_uri": "https://localhost:8080/"
        },
        "id": "_vOMDyYsYGN0",
        "outputId": "d80fac74-5e42-4a4c-f928-dc5f0ef19063"
      },
      "outputs": [
        {
          "output_type": "stream",
          "name": "stdout",
          "text": [
            "12\n"
          ]
        }
      ],
      "source": [
        "numero1=[3,4,5]\n",
        "\n",
        "a=numero1[0]\n",
        "b=numero1[1]\n",
        "c=numero1[2]\n",
        "\n",
        "def sumar(a,b,c):\n",
        "\n",
        "  x=numero1[0]+numero1[1]+numero1[2]\n",
        "  return x\n",
        "  \n",
        "resultado=sumar(a,b,c)\n",
        "print(resultado)\n",
        "\n",
        "\n"
      ]
    },
    {
      "cell_type": "markdown",
      "source": [
        "##Ejercico 4\n",
        "### Sumar los números de una lista de 4 elementos. Ejemplo [3,4,5,6]. Salida: 18\n"
      ],
      "metadata": {
        "id": "UEDKw8BUaw63"
      }
    },
    {
      "cell_type": "code",
      "source": [
        "numero1=[3,4,5,6]\n",
        "\n",
        "a=numero1[0]\n",
        "b=numero1[1]\n",
        "c=numero1[2]\n",
        "d=numero1[3]\n",
        "\n",
        "def sumar(a,b,c,d):\n",
        "\n",
        "  x=numero1[0]+numero1[1]+numero1[2]+numero1[3]\n",
        "  return x\n",
        "  \n",
        "resultado=sumar(a,b,c,d)\n",
        "print(resultado)\n"
      ],
      "metadata": {
        "colab": {
          "base_uri": "https://localhost:8080/"
        },
        "id": "wIh4Z4ezl7fq",
        "outputId": "bc3a4e2b-8e0b-4db6-e487-ff79699003e0"
      },
      "execution_count": null,
      "outputs": [
        {
          "output_type": "stream",
          "name": "stdout",
          "text": [
            "18\n"
          ]
        }
      ]
    },
    {
      "cell_type": "markdown",
      "source": [
        "##Ejercicio 5\n",
        "### Sumar todos los números de una lista. Ejemplo: (8,5,3,1). Salida: 17"
      ],
      "metadata": {
        "id": "uashOCsDpv6N"
      }
    },
    {
      "cell_type": "code",
      "source": [
        "def suma(a,b):\n",
        "  t=0\n",
        "  for d in range(0,a):\n",
        "    t=t+b[d]\n",
        "  return t\n",
        "\n",
        "a=int(input(\"¿cuantos números desea sumar? \"))\n",
        "n=[None]*a\n",
        "for i in range(0,a):\n",
        "  n[i]=int(input(f\"Número {i+1}: \"))\n",
        "print(\"el resultado de la suma es:\",suma(a,n))\n"
      ],
      "metadata": {
        "id": "tybocYfDwMzd",
        "colab": {
          "base_uri": "https://localhost:8080/"
        },
        "outputId": "e7b611cd-390f-4c33-9ba4-6ea6ec964b4c"
      },
      "execution_count": null,
      "outputs": [
        {
          "output_type": "stream",
          "name": "stdout",
          "text": [
            "¿cuantos números desea sumar? 3\n",
            "Número 1: 1\n",
            "Número 2: 2\n",
            "Número 3: 3\n",
            "el resultado de la suma es: 6\n"
          ]
        }
      ]
    },
    {
      "cell_type": "markdown",
      "source": [
        "##Ejercicio 6\n",
        "### Multiplicar los números de una lista de 3 elementos. Ejemplo [0,4,5]. Salida: 0"
      ],
      "metadata": {
        "id": "xa9xVuK9q1FM"
      }
    },
    {
      "cell_type": "code",
      "source": [
        "multi=[0,4,5]\n",
        "\n",
        "a=multi[0]\n",
        "b=multi[1]\n",
        "c=multi[2]\n",
        "def multip(a,b,c):\n",
        "\n",
        "  x=multi[0]*multi[1]*multi[2]\n",
        "  return x\n",
        "\n",
        "rta=multip(a,b,c)\n",
        "print(rta)"
      ],
      "metadata": {
        "colab": {
          "base_uri": "https://localhost:8080/"
        },
        "id": "RsY7W3jTq331",
        "outputId": "876cd72c-2f6b-4168-e1b3-5be5030d81e4"
      },
      "execution_count": null,
      "outputs": [
        {
          "output_type": "stream",
          "name": "stdout",
          "text": [
            "0\n"
          ]
        }
      ]
    },
    {
      "cell_type": "markdown",
      "source": [
        "##Ejercicio 7\n",
        "### Multiplicar los números de una lista de 4 elementos. Ejemplo [3,4,5,1]. Salida: 60"
      ],
      "metadata": {
        "id": "df1QB5z3soUG"
      }
    },
    {
      "cell_type": "code",
      "source": [
        "m=[3,4,5,1]\n",
        "\n",
        "a=m[0]\n",
        "b=m[1]\n",
        "c=m[2]\n",
        "d=m[3]\n",
        "\n",
        "def mul (a,b,c,d):\n",
        "  x=m[0]*m[1]*m[2]*m[3]\n",
        "  return x\n",
        "\n",
        "r=mul(a,b,c,d)\n",
        "print(r)"
      ],
      "metadata": {
        "colab": {
          "base_uri": "https://localhost:8080/"
        },
        "id": "33IEVp-Us2hC",
        "outputId": "d05f007b-4afd-4517-a58a-f6cc929fd546"
      },
      "execution_count": null,
      "outputs": [
        {
          "output_type": "stream",
          "name": "stdout",
          "text": [
            "60\n"
          ]
        }
      ]
    },
    {
      "cell_type": "markdown",
      "source": [
        "##Ejercicio 8\n",
        "### Multiplicar todos los números de una lista. Ejemplo: (1,2,3,-1). Salida: -6"
      ],
      "metadata": {
        "id": "zxc6ayKbuBFU"
      }
    },
    {
      "cell_type": "code",
      "source": [
        "def multi(a,b):\n",
        "  t=1\n",
        "  for d in range(0,a):\n",
        "    t=t*b[d]\n",
        "  return t\n",
        "\n",
        "a=int(input(\"¿cuantos números desea multiplicar? \"))\n",
        "n=[None]*a\n",
        "for i in range(0,a):\n",
        "  n[i]=int(input(f\"Número {i+1}: \"))\n",
        "print(\"el resultado de la multiplicación es:\",multi(a,n))\n"
      ],
      "metadata": {
        "id": "wjfLS1VEuGQL",
        "colab": {
          "base_uri": "https://localhost:8080/"
        },
        "outputId": "e9324304-ef13-4fa3-a9ed-fe76d63821ed"
      },
      "execution_count": null,
      "outputs": [
        {
          "output_type": "stream",
          "name": "stdout",
          "text": [
            "¿cuantos números desea multiplicar? 4\n",
            "Número 1: 2\n",
            "Número 2: 2\n",
            "Número 3: 2\n",
            "Número 4: 2\n",
            "el resultado de la multiplicación es: 16\n"
          ]
        }
      ]
    },
    {
      "cell_type": "markdown",
      "source": [
        "##Ejercicio 9\n",
        "###Invierta un String. Ejemplo: ingresa Hola y retorna aloH"
      ],
      "metadata": {
        "id": "R2u5WqGpuLCk"
      }
    },
    {
      "cell_type": "code",
      "source": [
        "def invertir(s):\n",
        "  return s[::-1]\n",
        "print(invertir(\"hola\"))"
      ],
      "metadata": {
        "colab": {
          "base_uri": "https://localhost:8080/"
        },
        "id": "50bZhx7vuQTH",
        "outputId": "d635a692-b7cf-4ea9-8a07-3466c408ba69"
      },
      "execution_count": null,
      "outputs": [
        {
          "output_type": "stream",
          "name": "stdout",
          "text": [
            "aloh\n"
          ]
        }
      ]
    },
    {
      "cell_type": "markdown",
      "source": [
        "##Ejercicio 10\n",
        "### Calcular el factorial de un número"
      ],
      "metadata": {
        "id": "GwF7sQhjwUtK"
      }
    },
    {
      "cell_type": "code",
      "source": [
        "def f(n):\n",
        "  if(n==0):\n",
        "    return 1\n",
        "  else:\n",
        "    return n*f(n-1)\n",
        "n=int(input(\"ingrese un número \"))\n",
        "print(\"El factorial de: \"+str(n)+ \" es \"+str(f(n)))"
      ],
      "metadata": {
        "colab": {
          "base_uri": "https://localhost:8080/"
        },
        "id": "EGbC_1G4KHRG",
        "outputId": "d8a76860-adb9-471d-db46-3c73835ed0c9"
      },
      "execution_count": null,
      "outputs": [
        {
          "output_type": "stream",
          "name": "stdout",
          "text": [
            "ingrese un número 20\n",
            "El factorial de: 20 es 2432902008176640000\n"
          ]
        }
      ]
    },
    {
      "cell_type": "markdown",
      "source": [
        "##Ejercicio 11\n",
        "###Si un número está dentro de un rango."
      ],
      "metadata": {
        "id": "gImrxUvhXKwe"
      }
    },
    {
      "cell_type": "markdown",
      "source": [
        "##Ejercicio 12\n",
        "###Capture el número de mayúsculas y minúsculas en una oración"
      ],
      "metadata": {
        "id": "ZQeLKRiJYP1F"
      }
    },
    {
      "cell_type": "code",
      "source": [
        " "
      ],
      "metadata": {
        "id": "n0bnt369YSzL"
      },
      "execution_count": null,
      "outputs": []
    },
    {
      "cell_type": "markdown",
      "source": [
        "##Ejercicio 13\n",
        "###El ejercicio anterior, pero almacene los resultados en un diccionario."
      ],
      "metadata": {
        "id": "34-fLfG7YTQf"
      }
    },
    {
      "cell_type": "code",
      "source": [],
      "metadata": {
        "id": "g0AOr47FYa9S"
      },
      "execution_count": null,
      "outputs": []
    },
    {
      "cell_type": "markdown",
      "source": [
        "##Ejercicio 14\n",
        "###Reciba una lista y retorne sólo los elementos pares"
      ],
      "metadata": {
        "id": "wxTj9H3PWJ4n"
      }
    },
    {
      "cell_type": "code",
      "source": [
        "def pares(num):\n",
        "  nump=[]\n",
        "  for n in num:\n",
        "    if n%2==0:\n",
        "      nump.append(n)\n",
        "  return nump\n",
        "\n",
        "num=[1,2,3,4,5,6,7,8,9,10]\n",
        "\n",
        "r=pares(num)\n",
        "print(num)\n",
        "print(r)"
      ],
      "metadata": {
        "colab": {
          "base_uri": "https://localhost:8080/"
        },
        "id": "dX961auTWNEQ",
        "outputId": "c122e628-e04d-40fc-d6e0-e46cf258d3b6"
      },
      "execution_count": null,
      "outputs": [
        {
          "output_type": "stream",
          "name": "stdout",
          "text": [
            "[1, 2, 3, 4, 5, 6, 7, 8, 9, 10]\n",
            "[2, 4, 6, 8, 10]\n"
          ]
        }
      ]
    },
    {
      "cell_type": "markdown",
      "source": [
        "##Ejercicio 15\n",
        "###Reciba una lista y retorne sólo los elementos de posición impar"
      ],
      "metadata": {
        "id": "arZKMLqPWvjA"
      }
    },
    {
      "cell_type": "code",
      "source": [
        "def impares(num):\n",
        "  numi=[]\n",
        "  for n in num:\n",
        "    if n%2==1:\n",
        "      numi.append(n)\n",
        "  return numi\n",
        "\n",
        "num=[1,2,3,4,5,6,7,8,9,10]\n",
        "\n",
        "r=impares(num)\n",
        "print(num)\n",
        "print(r)"
      ],
      "metadata": {
        "colab": {
          "base_uri": "https://localhost:8080/"
        },
        "id": "rDiSMcf8W4U7",
        "outputId": "969f1a2b-ffec-4962-d160-8c098cc9ca0c"
      },
      "execution_count": null,
      "outputs": [
        {
          "output_type": "stream",
          "name": "stdout",
          "text": [
            "[1, 2, 3, 4, 5, 6, 7, 8, 9, 10]\n",
            "[1, 3, 5, 7, 9]\n"
          ]
        }
      ]
    },
    {
      "cell_type": "markdown",
      "source": [
        "##Ejercicio 16\n",
        "###Recibir un número y decir si es perfecto o no. Ejemplo: 6 es perfecto, porque la suma de sus divisores es 6 (1+2+3)"
      ],
      "metadata": {
        "id": "X4f6lgSKXZAT"
      }
    },
    {
      "cell_type": "code",
      "source": [
        "n=int(input(\"ingrese un número \"))\n",
        "\n",
        "i=1\n",
        "total=0\n",
        "while(i<n):\n",
        "  if n%i==0:\n",
        "    total=total+i\n",
        "  i=i+1\n",
        "if total==n:\n",
        "  print(\"perfecto\")\n",
        "else:\n",
        "  print(\"No es perfecto\")"
      ],
      "metadata": {
        "id": "drc5Xb0OXgtQ",
        "colab": {
          "base_uri": "https://localhost:8080/"
        },
        "outputId": "9ac26558-0150-40e0-e437-6bee9d090cf9"
      },
      "execution_count": 15,
      "outputs": [
        {
          "output_type": "stream",
          "name": "stdout",
          "text": [
            "ingrese un número 6\n",
            "perfecto\n"
          ]
        }
      ]
    },
    {
      "cell_type": "markdown",
      "source": [
        "##Ejercicio 17\n",
        "###Chequear si una palabra es palíndromo o no. Ejemplo: “Ana” es un palíndromo"
      ],
      "metadata": {
        "id": "KG5rugQhXhUV"
      }
    },
    {
      "cell_type": "code",
      "source": [],
      "metadata": {
        "id": "B13R989tXlyO"
      },
      "execution_count": null,
      "outputs": []
    },
    {
      "cell_type": "markdown",
      "source": [
        "##Ejercicio 18\n",
        "###Imprimir la fila n del triángulo de pascal"
      ],
      "metadata": {
        "id": "mEaWocmUXmEQ"
      }
    },
    {
      "cell_type": "code",
      "source": [],
      "metadata": {
        "id": "5PuepFwFXquY"
      },
      "execution_count": null,
      "outputs": []
    },
    {
      "cell_type": "markdown",
      "source": [
        "##Ejercicio 19\n",
        "###Imprimir una frase tipo oración. Ejemplo: Ingresa: esta es una oración e imprime Esta es una oración."
      ],
      "metadata": {
        "id": "7kXWxoz6XrBf"
      }
    },
    {
      "cell_type": "code",
      "source": [],
      "metadata": {
        "id": "mUQMAeppX5J-"
      },
      "execution_count": null,
      "outputs": []
    },
    {
      "cell_type": "markdown",
      "source": [
        "##Ejercicio 20\n",
        "###Acepte palabras separadas por – y las ordene alfabéticamente.Ejemplo: ingresa verde-rojo-amarillo-blanco-negro Regresa: amarillo-blanco-negro-rojo-verde"
      ],
      "metadata": {
        "id": "YtWBI_a4X4fD"
      }
    },
    {
      "cell_type": "code",
      "source": [
        "nombres=[\"luis\",\"amarillos\",\"morado\",\"naranja\",\"gris\"]\n",
        "\n",
        "def ordenalf(cadena):\n",
        "  alfabeto={\n",
        "      \"A\":1, \"a\":1,\n",
        "      \"B\":2, \"b\":2,  \n",
        "      \"C\":3, \"c\":3,\n",
        "      \"D\":4, \"d\":4,\n",
        "      \"E\":5, \"e\":5,\n",
        "      \"F\":6, \"f\":6,\n",
        "      \"G\":7, \"g\":7,\n",
        "      \"H\":8, \"h\":8,\n",
        "      \"I\":9, \"i\":9,\n",
        "      \"J\":10, \"j\":10,\n",
        "      \"K\":11, \"k\":11,\n",
        "      \"L\":12, \"l\":12,\n",
        "      \"M\":13, \"m\":13,\n",
        "      \"N\":14, \"n\":14,\n",
        "      \"O\":15, \"o\":15,\n",
        "      \"P\":16, \"p\":16,\n",
        "      \"Q\":17, \"q\":17,\n",
        "      \"R\":18, \"r\":18,\n",
        "      \"S\":19, \"s\":19,\n",
        "      \"T\":20, \"t\":20,\n",
        "      \"U\":21, \"u\":21,\n",
        "      \"V\":22, \"v\":22,\n",
        "      \"W\":23, \"w\":23,\n",
        "      \"X\":24, \"x\":24,\n",
        "      \"Y\":25, \"y\":25,\n",
        "      \"Z\":26, \"z\":26\n",
        "\n",
        "  }\n",
        "\n",
        "  codigos=[]\n",
        "  for letra in cadena:\n",
        "    codigos.append(alfabeto[letra])\n",
        "  return codigos\n",
        "nombres.sort(key=ordenalf)\n",
        "print(nombres)"
      ],
      "metadata": {
        "colab": {
          "base_uri": "https://localhost:8080/"
        },
        "id": "ldrlSC7fX36V",
        "outputId": "ff9c82e4-81c4-4e19-f384-d88707764e72"
      },
      "execution_count": null,
      "outputs": [
        {
          "output_type": "stream",
          "name": "stdout",
          "text": [
            "['amarillos', 'gris', 'luis', 'morado', 'naranja']\n"
          ]
        }
      ]
    },
    {
      "cell_type": "markdown",
      "source": [
        "#Avanzado \n",
        "\n",
        "1. Invierta una oración. Ejemplo: ingresa Me llamo (ingresa tu nombre) y regresa (tu nombre)\n",
        "llamo me\n",
        "2. Reciba una lista y retorne dos listas: una con los elementos impares y otra con los elementos\n",
        "pares.\n",
        "3. Imprimir los 5 primeros números perfectos. Pista: Use la función desarrollada en el punto 16\n",
        "4. Imprimir un lenguaje codificado, agregando a cada palabra al final por pa, pe, pi, po, pu\n",
        "dependiendo de la vocal en que termina.\n",
        "Ejemplo: ingresa “hola como estas”\n",
        "Resultado: “hopolapa copomopo espetaspa”\n",
        "5. Decodificar un mensaje (generado por la función anterior).\n",
        "Ejemplo: ingresa “hopolapa copomopo espetaspa”\n",
        "Resultado: “hola como estas”"
      ],
      "metadata": {
        "id": "i6xEQ74PYDR4"
      }
    }
  ]
}