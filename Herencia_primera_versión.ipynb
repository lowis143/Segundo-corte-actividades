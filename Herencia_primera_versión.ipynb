{
  "nbformat": 4,
  "nbformat_minor": 0,
  "metadata": {
    "colab": {
      "provenance": []
    },
    "kernelspec": {
      "name": "python3",
      "display_name": "Python 3"
    },
    "language_info": {
      "name": "python"
    }
  },
  "cells": [
    {
      "cell_type": "code",
      "execution_count": 2,
      "metadata": {
        "id": "F9BW1-BQgM-_"
      },
      "outputs": [],
      "source": [
        "class humanos:\n",
        "\n",
        "  def __init__(self,nombre,ojos,cara,colorpiel,sexo,cabello,nariz,altura,peso,extremidadessuperior,extremidadesinferior,boca,orejas):\n",
        "\n",
        "    self.nombre=nombre\n",
        "    self.ojos=ojos\n",
        "    self.cara=cara\n",
        "    self.colorpiel=colorpiel\n",
        "    self.sexo=sexo\n",
        "    self.cabello=cabello\n",
        "    self.nariz=nariz\n",
        "    self.altura=altura\n",
        "    self.peso=peso\n",
        "    self.extremidadessuperior=extremidadessuperior\n",
        "    self.extremidadesinferior=extremidadesinferior\n",
        "    self.boca=boca\n",
        "    self.orejas=orejas\n",
        "  \n",
        "  def movilizarse(self,vel):\n",
        "    if vel<0:\n",
        "      print({self.nombre},\"Está retrocediendo \")\n",
        "      vel=-vel\n",
        "      return vel\n",
        "    else:\n",
        "      print({self.nombre}, \"va pa'lante\")\n",
        "\n",
        "    if vel==0:\n",
        "      return f\"{self.nombre} está en estado de reposo\"\n",
        "    elif vel>0 and vel<=1:\n",
        "      return f\"{self.nombre} está gateando\"\n",
        "    elif vel >1 and vel<5:\n",
        "      return f\"{self.nombre} está caminando\"\n",
        "    elif vel>5 and vel<5.9:\n",
        "      return f\"{self.nombre} está trotando\"\n",
        "    elif vel>5.9 and vel<=10:\n",
        "      return f\"{self.nombre} está corriendo\"\n",
        "    elif vel>10 and vel<=700:\n",
        "      return f\"{self.nombre} está volando\"\n",
        "    else:\n",
        "      return f\"{self.nombre} posiblemente no es humano\"\n",
        "    \n",
        "\n",
        "    \n",
        "  def trabajar(self, trabajo):\n",
        "    traba=[\"desempleado\",\"contado\",\"call center\",\"bombero\",\"gerente\",\"militar\"]\n",
        "    if traba[trabajo] in trabajo:\n",
        "\n",
        "      if trabajo==0:\n",
        "        print(self.nombre, \"estas\",traba[trabajo],\"perrito\")\n",
        "      else:\n",
        "        print(self.nombre, \"es\",traba[trabajo])"
      ]
    },
    {
      "cell_type": "code",
      "source": [
        "class sayayin:\n",
        "\n",
        "  def __init__(self,nombre,ojos,cara,colorpiel,sexo,cabello,nariz,altura,peso,extremidadessuperior,extremidadesinferior,boca,orejas,cola_de_mono):\n",
        "\n",
        "    self.nombre=nombre\n",
        "    self.ojos=\"negros\"\n",
        "    self.cara=cara\n",
        "    self.colorpiel=colorpiel\n",
        "    self.sexo=sexo\n",
        "    self.cabello=cabello\n",
        "    self.nariz=nariz\n",
        "    self.altura=altura\n",
        "    self.peso=peso\n",
        "    self.extremidadessuperior=extremidadessuperior\n",
        "    self.extremidadesinferior=extremidadesinferior\n",
        "    self.boca=boca\n",
        "    self.orejas=orejas\n",
        "    self.cola_de_mono=True \n",
        "\n",
        "  def luna(self,luna):\n",
        "    if luna and self.cola_de_mono:\n",
        "      print(self.nombre, \"te vas a poner mamado\")\n",
        "    elif luna and self.cola_de_mono==False:\n",
        "      print(self.nombre, \"no te  transformas\")\n",
        "    else: print(self.nombre, \"no te  transformas\")\n",
        "\n",
        "\n",
        "\n",
        "  def movilizarse(self,vel):\n",
        "      if vel<0:\n",
        "        print({self.nombre},\"Está retrocediendo \")\n",
        "        vel=-vel\n",
        "        return vel\n",
        "      else:\n",
        "        print({self.nombre}, \"va pa'lante\")\n",
        "\n",
        "      if vel==0:\n",
        "        return f\"{self.nombre} está en estado de reposo\"\n",
        "      elif vel >1 and vel<5:\n",
        "        return f\"{self.nombre} está caminando\"\n",
        "      elif vel>5 and vel<5.9:\n",
        "        return f\"{self.nombre} está trotando\"\n",
        "      elif vel>5.9 and vel<=10:\n",
        "        return f\"{self.nombre} está corriendo\"\n",
        "      elif vel>10 and vel<=700:\n",
        "        return f\"{self.nombre} está volando\"\n",
        "      else:\n",
        "        return f\"{self.nombre} posiblemente no es humano\"\n",
        "      \n",
        "\n",
        "    \n",
        "  def trabajar(self, trabajo):\n",
        "    traba=[\"guerrero\",\"mercenario\",\"granjero\",\"rey\",\"principes\"]\n",
        "    if traba[trabajo] in trabajo:\n",
        "\n",
        "      if trabajo==0:\n",
        "        print(self.nombre, \"estas\",traba[trabajo],\"perrito\")\n",
        "      else:\n",
        "        print(self.nombre, \"es\",traba[trabajo])"
      ],
      "metadata": {
        "id": "aY9qV1wvsNt7"
      },
      "execution_count": 3,
      "outputs": []
    },
    {
      "cell_type": "code",
      "source": [
        "#Hibridos \n",
        "#  def poderes():\n",
        "    #print({self.nombre} \"puede transformarse en modo bestia\")\n",
        "class hibridos(sayayin,humanos):\n",
        "\n",
        "  pass"
      ],
      "metadata": {
        "id": "H_4ZWo40vAP5"
      },
      "execution_count": 22,
      "outputs": []
    },
    {
      "cell_type": "code",
      "source": [
        "gohan=hibridos(\"gohan\",2,\"redonda\",\"blanca\",\"M\",\"negro\",\"pequeña\",\"bajo\",40,2,2,1,2,1)"
      ],
      "metadata": {
        "id": "1selHJP8vUbw"
      },
      "execution_count": 23,
      "outputs": []
    },
    {
      "cell_type": "code",
      "source": [
        "gohan.luna(True)"
      ],
      "metadata": {
        "colab": {
          "base_uri": "https://localhost:8080/"
        },
        "id": "lx2stzAzwep2",
        "outputId": "c62d35bb-dfc6-427c-e72c-fbb05ca6fc76"
      },
      "execution_count": 24,
      "outputs": [
        {
          "output_type": "stream",
          "name": "stdout",
          "text": [
            "gohan te vas a poner mamado\n"
          ]
        }
      ]
    }
  ]
}