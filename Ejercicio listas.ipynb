{
  "nbformat": 4,
  "nbformat_minor": 0,
  "metadata": {
    "colab": {
      "provenance": []
    },
    "kernelspec": {
      "name": "python3",
      "display_name": "Python 3"
    },
    "language_info": {
      "name": "python"
    }
  },
  "cells": [
    {
      "cell_type": "markdown",
      "source": [
        "##Pruebas"
      ],
      "metadata": {
        "id": "Z5BuA_g403Gu"
      }
    },
    {
      "cell_type": "code",
      "execution_count": 3,
      "metadata": {
        "colab": {
          "base_uri": "https://localhost:8080/"
        },
        "id": "42PIkjh9ao-1",
        "outputId": "a62c9408-3960-48a2-90c8-6ad8c1feeb8c"
      },
      "outputs": [
        {
          "output_type": "execute_result",
          "data": {
            "text/plain": [
              "[5, 6, 7, 8]"
            ]
          },
          "metadata": {},
          "execution_count": 3
        }
      ],
      "source": [
        "\n",
        "\n",
        "\n",
        "numbers = [1, 2, 3, 4]\n",
        "results = []\n",
        "for n in numbers:\n",
        "    results.append(n + 4)\n",
        "    \n",
        "results"
      ]
    },
    {
      "cell_type": "code",
      "source": [
        "fruits = ['blueberry','apple','banana','orange','cherry']\n",
        "\n",
        "starts_with_b = [fruit for fruit in fruits if fruit.startswith('b')]\n",
        "\n",
        "print(starts_with_b)\n",
        "\n",
        "# Output\n",
        "['blueberry', 'banana']"
      ],
      "metadata": {
        "colab": {
          "base_uri": "https://localhost:8080/"
        },
        "id": "BOQpUcOEghNB",
        "outputId": "475d635d-fd97-456b-bb69-75abe3e65f2a"
      },
      "execution_count": 7,
      "outputs": [
        {
          "output_type": "stream",
          "name": "stdout",
          "text": [
            "['blueberry', 'banana']\n"
          ]
        },
        {
          "output_type": "execute_result",
          "data": {
            "text/plain": [
              "['blueberry', 'banana']"
            ]
          },
          "metadata": {},
          "execution_count": 7
        }
      ]
    },
    {
      "cell_type": "code",
      "source": [
        "universidades=[\"unab\",\"uis\",\"andes\"]\n",
        "codigo=[\"u0123456\",\"198562\",\"a0005647\"]\n",
        "\n",
        "\n",
        "\n",
        "#unab=[cod for cod in codigo if (cod[0]=='u' and len(cod)==8) ]\n",
        "\n",
        "\n",
        "\n",
        "andes=[cod for cod in codigo if (cod[0]== 'a')]\n",
        "print(andes)\n",
        "#uis=[cod for cod in codigo if (cod[0] < \"1952\")]\n",
        "print(uis)\n",
        "\n",
        "#print(unab)"
      ],
      "metadata": {
        "colab": {
          "base_uri": "https://localhost:8080/"
        },
        "id": "Zqdy3ciJjkfK",
        "outputId": "1d0f751a-5233-41c5-b382-d45191e38592"
      },
      "execution_count": 84,
      "outputs": [
        {
          "output_type": "stream",
          "name": "stdout",
          "text": [
            "['a0005647']\n"
          ]
        }
      ]
    },
    {
      "cell_type": "code",
      "source": [
        "universidades=[\"unab\",\"uis\",\"andes\"]\n",
        "universidades[0]"
      ],
      "metadata": {
        "colab": {
          "base_uri": "https://localhost:8080/",
          "height": 36
        },
        "id": "r8HJeAm8y-9w",
        "outputId": "1bbc5f2d-4d95-46e1-9cd7-0885de07b592"
      },
      "execution_count": 82,
      "outputs": [
        {
          "output_type": "execute_result",
          "data": {
            "text/plain": [
              "'unab'"
            ],
            "application/vnd.google.colaboratory.intrinsic+json": {
              "type": "string"
            }
          },
          "metadata": {},
          "execution_count": 82
        }
      ]
    },
    {
      "cell_type": "code",
      "source": [
        "empiezanu = [uni for uni in universidades if uni.startswith('a')]\n",
        "\n",
        "print(empiezanu)\n",
        "\n",
        "\n",
        "n=int(input(\"¿ingrese su codigo? \"))\n",
        "\n",
        "\n",
        "def codigos(*codigo):\n",
        "    cod=[]\n",
        "    for estudiante in codigo:\n",
        "      cod.append(codigo)\n",
        "      return cod\n",
        "\n",
        "\n",
        "#if n==\"u1234567\"\n",
        "      n=int(input(\"¿ingrese su codigo? \"))"
      ],
      "metadata": {
        "id": "R92s8eIDpK9l"
      },
      "execution_count": null,
      "outputs": []
    },
    {
      "cell_type": "markdown",
      "source": [
        "#Ejercicio "
      ],
      "metadata": {
        "id": "7kCOvZN301Oe"
      }
    },
    {
      "cell_type": "code",
      "source": [
        "universidades=[\"unab\",\"uis\",\"andes\"]\n",
        "codigo=[\"u0123456\",\"198562\",\"a0005647\"]\n",
        "\n",
        "empiezanu = [uni for uni in universidades if uni.startswith('a')]\n",
        "codi = [cod for cod in codigo if cod.startswith('a')]\n",
        "\n",
        "print(empiezanu)\n",
        "print(codi)\n",
        "print(\"\")\n",
        "unab=[cod for cod in codigo if (cod[0]=='u' and len(cod)==8) ]\n",
        "u = [uni for uni in universidades if uni.startswith('un')]\n",
        "print(u)\n",
        "print(unab)\n",
        "\n",
        "print(\"\")\n",
        "\n",
        "u1 = [uni for uni in universidades if uni.startswith('ui')]\n",
        "uis=[cod for cod in codigo if (cod[0] < \"1952\")]\n",
        "print(u1)\n",
        "print(uis)\n"
      ],
      "metadata": {
        "colab": {
          "base_uri": "https://localhost:8080/"
        },
        "id": "-UksD0jxz453",
        "outputId": "99c89e4b-1d4b-4cb6-910d-baa607e8c4e4"
      },
      "execution_count": 91,
      "outputs": [
        {
          "output_type": "stream",
          "name": "stdout",
          "text": [
            "['andes']\n",
            "['a0005647']\n",
            "\n",
            "['unab']\n",
            "['u0123456']\n",
            "\n",
            "['uis']\n",
            "['198562']\n"
          ]
        }
      ]
    }
  ]
}