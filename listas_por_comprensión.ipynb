{
  "nbformat": 4,
  "nbformat_minor": 0,
  "metadata": {
    "colab": {
      "provenance": []
    },
    "kernelspec": {
      "name": "python3",
      "display_name": "Python 3"
    },
    "language_info": {
      "name": "python"
    }
  },
  "cells": [
    {
      "cell_type": "code",
      "execution_count": null,
      "metadata": {
        "id": "p5jRb3vjklHh"
      },
      "outputs": [],
      "source": [
        "#Listas por comprensión "
      ]
    },
    {
      "cell_type": "markdown",
      "source": [
        "##Ejercico samuel"
      ],
      "metadata": {
        "id": "zh77roXzrDl9"
      }
    },
    {
      "cell_type": "code",
      "source": [
        "##\n",
        "number=[1,2,3,4]\n",
        "result=[]\n",
        "for n in number:\n",
        "  result.append(n+1)\n",
        "result"
      ],
      "metadata": {
        "colab": {
          "base_uri": "https://localhost:8080/"
        },
        "id": "_XZZQycbpwQg",
        "outputId": "9413c0f9-674d-4d1b-f034-cad1d1006369"
      },
      "execution_count": 8,
      "outputs": [
        {
          "output_type": "execute_result",
          "data": {
            "text/plain": [
              "[2, 3, 4, 5]"
            ]
          },
          "metadata": {},
          "execution_count": 8
        }
      ]
    },
    {
      "cell_type": "code",
      "source": [
        "number=[1,2,3,4]\n",
        "result=[n+1 for n in number if n<5]\n",
        "result"
      ],
      "metadata": {
        "colab": {
          "base_uri": "https://localhost:8080/"
        },
        "id": "ZACMIaeXqBp2",
        "outputId": "c7fd754f-3738-4e2e-b83e-8a8d71490b8a"
      },
      "execution_count": 9,
      "outputs": [
        {
          "output_type": "execute_result",
          "data": {
            "text/plain": [
              "[2, 3, 4, 5]"
            ]
          },
          "metadata": {},
          "execution_count": 9
        }
      ]
    },
    {
      "cell_type": "code",
      "source": [
        "result2=lambda number:result\n",
        "print(result2(number))"
      ],
      "metadata": {
        "colab": {
          "base_uri": "https://localhost:8080/"
        },
        "id": "9B3Zx2dbqRqw",
        "outputId": "ddb67a94-82b8-4cb2-a561-6e80a18a0973"
      },
      "execution_count": 10,
      "outputs": [
        {
          "output_type": "stream",
          "name": "stdout",
          "text": [
            "[2, 3, 4, 5]\n"
          ]
        }
      ]
    },
    {
      "cell_type": "markdown",
      "source": [
        "##ejercicio jhonsito "
      ],
      "metadata": {
        "id": "IMGCx1KdrMs3"
      }
    },
    {
      "cell_type": "code",
      "source": [
        "#Ejercico (número perfecto)\n",
        "\n",
        "def perfecto(numero):\n",
        "  perf=0\n",
        "  for i in range (1,numero):\n",
        "    if numero %i==0:\n",
        "      perf+=i\n",
        "  if perf ==numero:\n",
        "    print('es numero perfecto')\n",
        "    return True\n",
        "  else:\n",
        "    print('no es un numero perfecto')\n",
        "numero=6\n",
        "perfecto(numero)"
      ],
      "metadata": {
        "colab": {
          "base_uri": "https://localhost:8080/"
        },
        "id": "sR2E9DZUmkwR",
        "outputId": "76235e31-e9a7-4561-b34d-e5cee957668b"
      },
      "execution_count": 2,
      "outputs": [
        {
          "output_type": "stream",
          "name": "stdout",
          "text": [
            "es numero perfecto\n"
          ]
        },
        {
          "output_type": "execute_result",
          "data": {
            "text/plain": [
              "True"
            ]
          },
          "metadata": {},
          "execution_count": 2
        }
      ]
    },
    {
      "cell_type": "code",
      "source": [
        "def numeros():\n",
        "  a=int(input('ingresa un número'))\n",
        "  b=int(input('ingresa un número'))\n",
        "  c=int(input('ingresa un número'))\n",
        "  d=int(input('ingresa un número'))\n",
        "  perfect=[a,b,c,d]\n",
        "\n",
        "  perfect1=[elemento for elemento in perfect if perfecto(elemento)==True]\n",
        "numeros()"
      ],
      "metadata": {
        "colab": {
          "base_uri": "https://localhost:8080/"
        },
        "id": "p6CwqmytnZh5",
        "outputId": "37ac42dc-95ff-4135-d6a5-0cf97dc95b9b"
      },
      "execution_count": 3,
      "outputs": [
        {
          "output_type": "stream",
          "name": "stdout",
          "text": [
            "ingresa un número5\n",
            "ingresa un número6\n",
            "ingresa un número2\n",
            "ingresa un número4\n",
            "no es un numero perfecto\n",
            "es numero perfecto\n",
            "no es un numero perfecto\n",
            "no es un numero perfecto\n"
          ]
        }
      ]
    },
    {
      "cell_type": "code",
      "source": [
        "lista=[2,3,6,4]\n",
        "#lambda y map\n",
        "perfect2=list(map(lambda elemento:perfecto(elemento)==True,lista))"
      ],
      "metadata": {
        "colab": {
          "base_uri": "https://localhost:8080/"
        },
        "id": "9BnqRzKPn16W",
        "outputId": "3c2e08cf-8d4a-4fa9-d2d8-3a94833a816a"
      },
      "execution_count": 4,
      "outputs": [
        {
          "output_type": "stream",
          "name": "stdout",
          "text": [
            "no es un numero perfecto\n",
            "no es un numero perfecto\n",
            "es numero perfecto\n",
            "no es un numero perfecto\n"
          ]
        }
      ]
    },
    {
      "cell_type": "markdown",
      "source": [
        "##Ejercicio jesus"
      ],
      "metadata": {
        "id": "-uiZXhoDrIK-"
      }
    },
    {
      "cell_type": "code",
      "source": [
        "##\n",
        "n=int(input(\"Hasta que número quieres imprimir los pares e impares:\"))\n",
        "pares=[número for número in range(0,n+1) if número%2==0]\n",
        "print(pares)\n",
        "impares=[número for número in range(0,n+1) if número%2!=0]\n",
        "print(impares)"
      ],
      "metadata": {
        "colab": {
          "base_uri": "https://localhost:8080/"
        },
        "id": "IFT_29Pzlp3k",
        "outputId": "de5b1552-d86a-4d96-f1ad-a4a2878adfe2"
      },
      "execution_count": 1,
      "outputs": [
        {
          "output_type": "stream",
          "name": "stdout",
          "text": [
            "Hasta que número quieres imprimir los pares e impares:5\n",
            "[0, 2, 4]\n",
            "[1, 3, 5]\n"
          ]
        }
      ]
    },
    {
      "cell_type": "code",
      "source": [
        "num=int(input(\"Hasta que número quieres imprimir los pares e impares\"))\n",
        "def hola(n):\n",
        "  pares=[número for número in range(0,n+1) if número%2==0]\n",
        "  print(pares)\n",
        "  impares=[número for número in range(0,n+1) if número%2!=0]\n",
        "  print(impares)\n",
        "hola(num)"
      ],
      "metadata": {
        "colab": {
          "base_uri": "https://localhost:8080/"
        },
        "id": "4390XE25mK4S",
        "outputId": "92f68c68-b5f2-4431-e9f0-236e9a953d60"
      },
      "execution_count": 5,
      "outputs": [
        {
          "output_type": "stream",
          "name": "stdout",
          "text": [
            "Hasta que número quieres imprimir los pares e impares6\n",
            "[0, 2, 4, 6]\n",
            "[1, 3, 5]\n"
          ]
        }
      ]
    },
    {
      "cell_type": "code",
      "source": [
        "num=int(input(\"Hasta que número quieres imprimir los pares e impares: \"))\n",
        "mi_lista=[n for n in range(0,num+1)]\n",
        "pares=list(filter(lambda num:num%2==0,mi_lista))\n",
        "print(pares)\n",
        "impares=list(filter(lambda num:num%2!=0,mi_lista))\n",
        "print(impares)"
      ],
      "metadata": {
        "colab": {
          "base_uri": "https://localhost:8080/"
        },
        "id": "w8aQDT1IopnQ",
        "outputId": "306f3514-bc4c-467f-d892-6c37d8bd596b"
      },
      "execution_count": 7,
      "outputs": [
        {
          "output_type": "stream",
          "name": "stdout",
          "text": [
            "Hasta que número quieres imprimir los pares e impares6\n",
            "[0, 2, 4, 6]\n",
            "[1, 3, 5]\n"
          ]
        }
      ]
    }
  ]
}