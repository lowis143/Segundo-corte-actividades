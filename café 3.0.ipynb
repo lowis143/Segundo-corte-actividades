{
  "cells": [
    {
      "cell_type": "code",
      "execution_count": 4,
      "metadata": {
        "id": "DA4pqnyMk8FX"
      },
      "outputs": [],
      "source": [
        "import pandas as pd\n",
        "class Producto():\n",
        "  def __init__(self,producto,precio,unidad):\n",
        "    self.producto=producto\n",
        "    self.precio=precio\n",
        "    self.unidad=unidad\n",
        "\n",
        "class Carrito():\n",
        "   def __init__(self,lista=[]):\n",
        "     self.lista=[]\n",
        "   def carro(self,a):\n",
        "     for b in self.lista:\n",
        "       if b.producto==a.producto:\n",
        "         self.lista.remove(b)\n",
        "     self.lista.append(a)\n",
        "   def revisar(self):\n",
        "     tot=0\n",
        "     for a in self.lista:\n",
        "       print(f\"{a.producto} x{a.unidad} valor: ${a.precio} por unidad\")  \n",
        "       tot=tot+a.precio*a.unidad\n",
        "     print(f\"Total: {round(tot,2)}\")\n",
        "     return tot\n",
        "class Factura(Carrito):\n",
        "  def factura(self,compra1):\n",
        "    print(\" FACTURA \")\n",
        "    tot=compra1.revisar()\n",
        "    print(\"le agregamos el iva del 19%\")\n",
        "    print(f\"TOTAL : {round(tot*1.19,2)}\")\n",
        "\n",
        "\n",
        "\n",
        "\n",
        "\n",
        "\n",
        "\n"
      ]
    },
    {
      "cell_type": "code",
      "source": [
        "import pandas as pd\n",
        "prod={\"cafe con leche\":4.900,\"batido\":7.000,\"mocaccino\":4.600,\"chocofrances\":4.900,\"donas de chocolate\":2.500,\"torta de amapola\":4.600,\"galletas chips de chocolate\":6.100,\"papas naturales\":2.600}\n",
        "Leches={\"leche deslactosada\":1.500,\"leche de almendras\":2.500,\"leche semidescremada\":3.000,\"leche de soja\":2.000}\n",
        "Tamaños={\"normal\":800,\"grande\":1.000,\"extragrande\":1.200}\n",
        "p=None\n",
        "t=None\n",
        "tam=None\n",
        "o=\"s\"\n",
        "compra1=Carrito()\n",
        "\n",
        "while o.lower()[0]!=\"n\":\n",
        " if o.lower()==\"comprobar\":\n",
        "   compra1.revisar()\n",
        " else:\n",
        "  p=None\n",
        "  t=None\n",
        "  tam=None\n",
        "  while (p in prod)==False:\n",
        "   p=input(\"Carta\\n\\nBEBIDAS                   COMIDA\\n \\nCafe con leche  $4.900    Donas de chocolate $2.500\\nBatido  $7.000            Torta de amapola $4.600\\nMocaccino $4.600          Galletas chips de chocolata $6.100 \\nChocofrances $4.900       Papas naturales $2.600\\n¿Que llevaras?: \")\n",
        "   if (p in prod)==False:\n",
        "     print(\"No tenemos dicho producto a la venta\")\n",
        "  cash=prod[p.lower()]\n",
        "  if p.lower()==\"cafe con leche\" or p.lower()==\"batido\" or p.lower()==\"mocaccino\" or p.lower()==\"chocofrances\":\n",
        "    while (t in Leches)==False:\n",
        "     t=input(\"Leches:\\nLeche deslactosada $1.500\\nLeche de almendra $2.500\\nLeche semidescremada $3.000\\nleche de soja $2.000\\n¿Que leche desea en su bebida?: \")\n",
        "     if (t in Leches)==False:\n",
        "      print(\"No tenemos dicho producto a la venta\")\n",
        "    while (tam in Tamaños)==False:\n",
        "     tam=input(\"normal\\ngrande\\nextragrande\\n¿De que tamaño quiere su bebida?:\")\n",
        "     if (tam in Tamaños)==False:\n",
        "      print(\"Ese tamaño no está registrado en nuestra tienda\")\n",
        "    cash=(cash+Leches[t.lower()])*Tamaños[tam.lower()]\n",
        "    p=p+\" con \"+t+\" de tamaño \"+tam\n",
        "  print(f\"{p}: ${round(cash,2)}\")\n",
        "  n=int(input(f\"¿Cuantos {p} quieres llevar?: \"))\n",
        "  compra=Producto(p.capitalize(),cash,n)\n",
        "  compra1.carro(compra)\n",
        " o=input(\"¿Deseas agregar algo más?\")\n",
        "factura=Factura(compra1)\n",
        "factura.factura(compra1)"
      ],
      "metadata": {
        "id": "cm8ucRynSIwa",
        "colab": {
          "base_uri": "https://localhost:8080/"
        },
        "outputId": "1d0dffe7-b16b-4388-e381-3d5ee8549d4a"
      },
      "execution_count": 5,
      "outputs": [
        {
          "output_type": "stream",
          "name": "stdout",
          "text": [
            "Carta\n",
            "\n",
            "BEBIDAS                   COMIDA\n",
            " \n",
            "Cafe con leche  $4.900    Donas de chocolate $2.500\n",
            "Batido  $7.000            Torta de amapola $4.600\n",
            "Mocaccino $4.600          Galletas chips de chocolata $6.100 \n",
            "Chocofrances $4.900       Papas naturales $2.600\n",
            "¿Que llevaras?: cafe con leche\n",
            "Leches:\n",
            "Leche deslactosada $1.500\n",
            "Leche de almendra $2.500\n",
            "Leche semidescremada $3.000\n",
            "leche de soja $2.000\n",
            "¿Que leche desea en su bebida?: leche de soja\n",
            "normal\n",
            "grande\n",
            "extragrande\n",
            "¿De que tamaño quiere su bebida?:grande\n",
            "cafe con leche con leche de soja de tamaño grande: $6.9\n",
            "¿Cuantos cafe con leche con leche de soja de tamaño grande quieres llevar?: 3\n",
            "¿Deseas agregar algo más?si\n",
            "Carta\n",
            "\n",
            "BEBIDAS                   COMIDA\n",
            " \n",
            "Cafe con leche  $4.900    Donas de chocolate $2.500\n",
            "Batido  $7.000            Torta de amapola $4.600\n",
            "Mocaccino $4.600          Galletas chips de chocolata $6.100 \n",
            "Chocofrances $4.900       Papas naturales $2.600\n",
            "¿Que llevaras?: torta de amapola\n",
            "torta de amapola: $4.6\n",
            "¿Cuantos torta de amapola quieres llevar?: 3\n",
            "¿Deseas agregar algo más?no\n",
            " FACTURA \n",
            "Cafe con leche con leche de soja de tamaño grande x3 valor: $6.9 por unidad\n",
            "Torta de amapola x3 valor: $4.6 por unidad\n",
            "Total: 34.5\n",
            "le agregamos el iva del 19%\n",
            "TOTAL : 41.05\n"
          ]
        }
      ]
    }
  ],
  "metadata": {
    "colab": {
      "collapsed_sections": [],
      "provenance": []
    },
    "kernelspec": {
      "display_name": "Python 3",
      "name": "python3"
    },
    "language_info": {
      "name": "python"
    }
  },
  "nbformat": 4,
  "nbformat_minor": 0
}