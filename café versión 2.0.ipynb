{
  "nbformat": 4,
  "nbformat_minor": 0,
  "metadata": {
    "colab": {
      "provenance": []
    },
    "kernelspec": {
      "name": "python3",
      "display_name": "Python 3"
    },
    "language_info": {
      "name": "python"
    }
  },
  "cells": [
    {
      "cell_type": "code",
      "execution_count": 1,
      "metadata": {
        "id": "zdRfyCoP4aK8"
      },
      "outputs": [],
      "source": [
        "import pandas as pd\n",
        "class Producto():\n",
        "  def __init__(self,producto,precio,unidad):\n",
        "    self.producto=producto\n",
        "    self.precio=precio\n",
        "    self.unidad=unidad\n",
        "\n",
        "class Carrito():\n",
        "   def __init__(self,lista=[]):\n",
        "     self.lista=[]\n",
        "   def carro(self,a):\n",
        "     for b in self.lista:\n",
        "       if b.producto==a.producto:\n",
        "         self.lista.remove(b)\n",
        "     self.lista.append(a)\n",
        "   def revisar(self):\n",
        "     tot=0\n",
        "     for a in self.lista:\n",
        "       print(f\"{a.producto} x{a.unidad} valor: ${a.precio} por unidad\")  \n",
        "       tot=tot+a.precio*a.unidad\n",
        "     print(f\"Total: {tot}\")\n",
        "     return tot\n",
        "class Factura(Carrito):\n",
        "  def factura(self,compra1):\n",
        "    print(\" FACTURA \")\n",
        "    tot=compra1.revisar()\n",
        "    print(\"le agregamos el iva del 19%\")\n",
        "    print(f\"TOTAL : {round(tot*1.19,2)}\")\n"
      ]
    },
    {
      "cell_type": "code",
      "source": [
        "import pandas as pd\n",
        "prod={\"cafe con leche\":4.900,\"batido\":7.000,\"mocaccino\":4.600,\"chocofrances\":4.900,\"donas de chocolate\":2.500,\"torta de amapola\":4.600,\"galletas chips de chocolate\":6.100,\"papas naturales\":2.600}\n",
        "Leches={\"leche deslactosada\":1.500,\"leche de almendra\":2.500,\"leche semidescremada\":3.000,\"leche de soja\":2.000}\n",
        "Tamaños={\"normal\":800,\"grande\":1.000,\"extragrande\":1.200}\n",
        "p=None\n",
        "t=None\n",
        "tam=None\n",
        "o=\"s\"\n",
        "compra1=Carrito()\n",
        "\n",
        "while o.lower()[0]!=\"no\":\n",
        " if o.lower()==\"comprobar\":\n",
        "   compra1.revisar()\n",
        " else:\n",
        "  p=None\n",
        "  t=None\n",
        "  tam=None\n",
        "  while (p in prod)==False:\n",
        "   p=input(\"Carta\\n\\nBEBIDAS                   COMIDA\\n \\nCafe con leche  $4.900    Donas de chocolate $2.500\\nBatido  $7.000            Torta de amapola $4.600\\nMocaccino $4.600          Galletas chips de chocolata $6.100 \\nChocofrances $4.900       Papas naturales $2.600\\n¿Que llevaras?: \")\n",
        "   if (p in prod)==False:\n",
        "     print(\"No tenemos dicho producto a la venta\")\n",
        "  cash=prod[p.lower()]\n",
        "  if p.lower()==\"cafe con leche\" or p.lower()==\"batido\" or p.lower()==\"mocaccino\" or p.lower()==\"chocofrances\":\n",
        "    while (t in Leches)==False:\n",
        "     t=input(\"Leches:\\nleche deslactosada $1.500\\nleche de almendra $2.500\\nleche semidescremada $3.000\\nleche de soja $2.000\\n¿Que leche desea en su bebida?: \")\n",
        "     if (t in Leches)==False:\n",
        "      print(\"No tenemos dicho producto a la venta\")\n",
        "    while (tam in Tamaños)==False:\n",
        "     tam=input(\"normal\\ngrande\\nextragrande\\n¿De que tamaño quiere su bebida?:\")\n",
        "     if (tam in Tamaños)==False:\n",
        "      print(\"Ese tamaño no está registrado en nuestra tienda\")\n",
        "    cash=(cash+Leches[t.lower()])*Tamaños[tam.lower()]\n",
        "    p=p+\" con \"+t+\" de tamaño \"+tam\n",
        "  print(f\"{p}: ${round(cash,2)}\")\n",
        "  n=int(input(f\"¿Cuantos {p} quieres llevar?: \"))\n",
        "  compra=Producto(p.capitalize(),cash,n)\n",
        "  compra1.carro(compra)\n",
        " o=input(\"¿Deseas agregar algo más?\")\n",
        "factura=Factura(compra1)\n",
        "factura.factura(compra1)"
      ],
      "metadata": {
        "colab": {
          "base_uri": "https://localhost:8080/",
          "height": 1000
        },
        "id": "5_JGVOH94eGG",
        "outputId": "771eabc0-d927-4319-fc70-7c132725bf3c"
      },
      "execution_count": 4,
      "outputs": [
        {
          "name": "stdout",
          "output_type": "stream",
          "text": [
            "Carta\n",
            "\n",
            "BEBIDAS                   COMIDA\n",
            " \n",
            "Cafe con leche  $4.900    Donas de chocolate $2.500\n",
            "Batido  $7.000            Torta de amapola $4.600\n",
            "Mocaccino $4.600          Galletas chips de chocolata $6.100 \n",
            "Chocofrances $4.900       Papas naturales $2.600\n",
            "¿Que llevaras?: cafe con leche\n",
            "Leches:\n",
            "leche deslactosada $1.500\n",
            "leche de almendra $2.500\n",
            "leche semidescremada $3.000\n",
            "leche de soja $2.000\n",
            "¿Que leche desea en su bebida?: leche de almendra\n",
            "normal\n",
            "grande\n",
            "extragrande\n",
            "¿De que tamaño quiere su bebida?:grande\n",
            "cafe con leche con leche de almendra de tamaño grande: $7.4\n",
            "¿Cuantos cafe con leche con leche de almendra de tamaño grande quieres llevar?: 4\n",
            "¿Deseas agregar algo más?comprobar\n",
            "Cafe con leche con leche de almendra de tamaño grande x4 valor: $7.4 por unidad\n",
            "Total: 29.6\n",
            "¿Deseas agregar algo más?si\n",
            "Carta\n",
            "\n",
            "BEBIDAS                   COMIDA\n",
            " \n",
            "Cafe con leche  $4.900    Donas de chocolate $2.500\n",
            "Batido  $7.000            Torta de amapola $4.600\n",
            "Mocaccino $4.600          Galletas chips de chocolata $6.100 \n",
            "Chocofrances $4.900       Papas naturales $2.600\n",
            "¿Que llevaras?: torta de amapola\n",
            "torta de amapola: $4.6\n",
            "¿Cuantos torta de amapola quieres llevar?: 5\n",
            "¿Deseas agregar algo más?comprobar\n",
            "Cafe con leche con leche de almendra de tamaño grande x4 valor: $7.4 por unidad\n",
            "Torta de amapola x5 valor: $4.6 por unidad\n",
            "Total: 52.6\n",
            "¿Deseas agregar algo más?no\n"
          ]
        },
        {
          "output_type": "error",
          "ename": "KeyboardInterrupt",
          "evalue": "ignored",
          "traceback": [
            "\u001b[0;31m---------------------------------------------------------------------------\u001b[0m",
            "\u001b[0;31mKeyboardInterrupt\u001b[0m                         Traceback (most recent call last)",
            "\u001b[0;32m<ipython-input-4-92396df0e4f5>\u001b[0m in \u001b[0;36m<module>\u001b[0;34m\u001b[0m\n\u001b[1;32m     17\u001b[0m   \u001b[0mtam\u001b[0m\u001b[0;34m=\u001b[0m\u001b[0;32mNone\u001b[0m\u001b[0;34m\u001b[0m\u001b[0;34m\u001b[0m\u001b[0m\n\u001b[1;32m     18\u001b[0m   \u001b[0;32mwhile\u001b[0m \u001b[0;34m(\u001b[0m\u001b[0mp\u001b[0m \u001b[0;32min\u001b[0m \u001b[0mprod\u001b[0m\u001b[0;34m)\u001b[0m\u001b[0;34m==\u001b[0m\u001b[0;32mFalse\u001b[0m\u001b[0;34m:\u001b[0m\u001b[0;34m\u001b[0m\u001b[0;34m\u001b[0m\u001b[0m\n\u001b[0;32m---> 19\u001b[0;31m    \u001b[0mp\u001b[0m\u001b[0;34m=\u001b[0m\u001b[0minput\u001b[0m\u001b[0;34m(\u001b[0m\u001b[0;34m\"Carta\\n\\nBEBIDAS                   COMIDA\\n \\nCafe con leche  $4.900    Donas de chocolate $2.500\\nBatido  $7.000            Torta de amapola $4.600\\nMocaccino $4.600          Galletas chips de chocolata $6.100 \\nChocofrances $4.900       Papas naturales $2.600\\n¿Que llevaras?: \"\u001b[0m\u001b[0;34m)\u001b[0m\u001b[0;34m\u001b[0m\u001b[0;34m\u001b[0m\u001b[0m\n\u001b[0m\u001b[1;32m     20\u001b[0m    \u001b[0;32mif\u001b[0m \u001b[0;34m(\u001b[0m\u001b[0mp\u001b[0m \u001b[0;32min\u001b[0m \u001b[0mprod\u001b[0m\u001b[0;34m)\u001b[0m\u001b[0;34m==\u001b[0m\u001b[0;32mFalse\u001b[0m\u001b[0;34m:\u001b[0m\u001b[0;34m\u001b[0m\u001b[0;34m\u001b[0m\u001b[0m\n\u001b[1;32m     21\u001b[0m      \u001b[0mprint\u001b[0m\u001b[0;34m(\u001b[0m\u001b[0;34m\"No tenemos dicho producto a la venta\"\u001b[0m\u001b[0;34m)\u001b[0m\u001b[0;34m\u001b[0m\u001b[0;34m\u001b[0m\u001b[0m\n",
            "\u001b[0;32m/usr/local/lib/python3.7/dist-packages/ipykernel/kernelbase.py\u001b[0m in \u001b[0;36mraw_input\u001b[0;34m(self, prompt)\u001b[0m\n\u001b[1;32m    861\u001b[0m             \u001b[0mself\u001b[0m\u001b[0;34m.\u001b[0m\u001b[0m_parent_ident\u001b[0m\u001b[0;34m,\u001b[0m\u001b[0;34m\u001b[0m\u001b[0;34m\u001b[0m\u001b[0m\n\u001b[1;32m    862\u001b[0m             \u001b[0mself\u001b[0m\u001b[0;34m.\u001b[0m\u001b[0m_parent_header\u001b[0m\u001b[0;34m,\u001b[0m\u001b[0;34m\u001b[0m\u001b[0;34m\u001b[0m\u001b[0m\n\u001b[0;32m--> 863\u001b[0;31m             \u001b[0mpassword\u001b[0m\u001b[0;34m=\u001b[0m\u001b[0;32mFalse\u001b[0m\u001b[0;34m,\u001b[0m\u001b[0;34m\u001b[0m\u001b[0;34m\u001b[0m\u001b[0m\n\u001b[0m\u001b[1;32m    864\u001b[0m         )\n\u001b[1;32m    865\u001b[0m \u001b[0;34m\u001b[0m\u001b[0m\n",
            "\u001b[0;32m/usr/local/lib/python3.7/dist-packages/ipykernel/kernelbase.py\u001b[0m in \u001b[0;36m_input_request\u001b[0;34m(self, prompt, ident, parent, password)\u001b[0m\n\u001b[1;32m    902\u001b[0m             \u001b[0;32mexcept\u001b[0m \u001b[0mKeyboardInterrupt\u001b[0m\u001b[0;34m:\u001b[0m\u001b[0;34m\u001b[0m\u001b[0;34m\u001b[0m\u001b[0m\n\u001b[1;32m    903\u001b[0m                 \u001b[0;31m# re-raise KeyboardInterrupt, to truncate traceback\u001b[0m\u001b[0;34m\u001b[0m\u001b[0;34m\u001b[0m\u001b[0;34m\u001b[0m\u001b[0m\n\u001b[0;32m--> 904\u001b[0;31m                 \u001b[0;32mraise\u001b[0m \u001b[0mKeyboardInterrupt\u001b[0m\u001b[0;34m(\u001b[0m\u001b[0;34m\"Interrupted by user\"\u001b[0m\u001b[0;34m)\u001b[0m \u001b[0;32mfrom\u001b[0m \u001b[0;32mNone\u001b[0m\u001b[0;34m\u001b[0m\u001b[0;34m\u001b[0m\u001b[0m\n\u001b[0m\u001b[1;32m    905\u001b[0m             \u001b[0;32mexcept\u001b[0m \u001b[0mException\u001b[0m \u001b[0;32mas\u001b[0m \u001b[0me\u001b[0m\u001b[0;34m:\u001b[0m\u001b[0;34m\u001b[0m\u001b[0;34m\u001b[0m\u001b[0m\n\u001b[1;32m    906\u001b[0m                 \u001b[0mself\u001b[0m\u001b[0;34m.\u001b[0m\u001b[0mlog\u001b[0m\u001b[0;34m.\u001b[0m\u001b[0mwarning\u001b[0m\u001b[0;34m(\u001b[0m\u001b[0;34m\"Invalid Message:\"\u001b[0m\u001b[0;34m,\u001b[0m \u001b[0mexc_info\u001b[0m\u001b[0;34m=\u001b[0m\u001b[0;32mTrue\u001b[0m\u001b[0;34m)\u001b[0m\u001b[0;34m\u001b[0m\u001b[0;34m\u001b[0m\u001b[0m\n",
            "\u001b[0;31mKeyboardInterrupt\u001b[0m: Interrupted by user"
          ]
        }
      ]
    }
  ]
}