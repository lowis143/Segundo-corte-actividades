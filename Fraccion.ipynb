{
  "nbformat": 4,
  "nbformat_minor": 0,
  "metadata": {
    "colab": {
      "provenance": []
    },
    "kernelspec": {
      "name": "python3",
      "display_name": "Python 3"
    },
    "language_info": {
      "name": "python"
    }
  },
  "cells": [
    {
      "cell_type": "code",
      "execution_count": 71,
      "metadata": {
        "id": "lpe4xa_8iFw9"
      },
      "outputs": [],
      "source": [
        "#potencia\n",
        "\n",
        "class Fraccion: #classs fraccion\n",
        "  def __init__(self,num,den,pot):\n",
        "    self.num=num\n",
        "    self.den=den\n",
        "    self.pot=pot\n",
        "    \n",
        "  def potencia(self):\n",
        "    num=self.num**self.pot\n",
        "    den=self.den**self.pot\n",
        "    pot=self.pot\n",
        "    c=Fraccion(num,den,pot)\n",
        "    return c\n",
        "\n",
        "  def imprimir(self):\n",
        "    print(f'{self.num} / {self.den}')\n"
      ]
    },
    {
      "cell_type": "code",
      "source": [
        "s=Fraccion(3,5,8)\n",
        "s.potencia()"
      ],
      "metadata": {
        "colab": {
          "base_uri": "https://localhost:8080/"
        },
        "id": "4ZTekrHZlU2Z",
        "outputId": "99ff1e1f-6e28-4dd9-95d2-2c346cbfc003"
      },
      "execution_count": 72,
      "outputs": [
        {
          "output_type": "execute_result",
          "data": {
            "text/plain": [
              "<__main__.Fraccion at 0x7fce19911ed0>"
            ]
          },
          "metadata": {},
          "execution_count": 72
        }
      ]
    },
    {
      "cell_type": "code",
      "source": [
        "#suma \n",
        "class Fraccion: #classs fraccion\n",
        "  def __init__(self,num,den,pot):\n",
        "    self.num=num\n",
        "    self.den=den\n",
        "    self.pot=pot\n",
        "    \n",
        "  def potencia(self):\n",
        "    num=self.num**self.pot\n",
        "    den=self.den**self.pot\n",
        "    pot=self.pot\n",
        "    c=Fraccion(num,den,pot)\n",
        "    return c\n",
        "  def suma(self,s):\n",
        "    if self.den==0 or s.den==0:\n",
        "      print(\"no se puede dividir entre 0\")\n",
        "    else:\n",
        "      if self.den!=s.den:\n",
        "        num=(self.num*s.den)+(self.den*s.num)\n",
        "        den=self.den*s.den\n",
        "      else:\n",
        "        num=(self.num*s.den)+(self.den*s.num)\n",
        "        den=self.den\n",
        "    f=Fraccion(num,den,1)\n",
        "    print(f'{f.num} / {f.den}')\n",
        "    return f\n",
        "\n",
        "\n",
        "\n",
        "  def imprimir(self):\n",
        "    print(f'{self.num} / {self.den}')"
      ],
      "metadata": {
        "id": "i0xhJKvPnYzu"
      },
      "execution_count": 73,
      "outputs": []
    },
    {
      "cell_type": "code",
      "source": [
        "t=Fraccion(4,5,1)\n",
        "t.suma(s)"
      ],
      "metadata": {
        "colab": {
          "base_uri": "https://localhost:8080/"
        },
        "id": "PC-19tXqpo1r",
        "outputId": "3f66a710-2426-4ff2-8805-7fea19e70fa4"
      },
      "execution_count": 74,
      "outputs": [
        {
          "output_type": "stream",
          "name": "stdout",
          "text": [
            "35 / 5\n"
          ]
        },
        {
          "output_type": "execute_result",
          "data": {
            "text/plain": [
              "<__main__.Fraccion at 0x7fce1986f250>"
            ]
          },
          "metadata": {},
          "execution_count": 74
        }
      ]
    },
    {
      "cell_type": "code",
      "source": [
        "class Fraccion: #classs fraccion\n",
        "  def __init__(self,num,den,pot):\n",
        "    self.num=num\n",
        "    self.den=den\n",
        "    self.pot=pot\n",
        "    \n",
        "  def potencia(self):\n",
        "    num=self.num**self.pot\n",
        "    den=self.den**self.pot\n",
        "    pot=self.pot\n",
        "    c=Fraccion(num,den,pot)\n",
        "    return c\n",
        "  def resta(self,s):\n",
        "    if self.den==0 or s.den==0:\n",
        "      print(\"no se puede dividir entre 0\")\n",
        "    else:\n",
        "      if self.den!=s.den:\n",
        "        num=(self.num*s.den)-(self.den*s.num)\n",
        "        den=self.den*s.den\n",
        "      else:\n",
        "        num=(self.num*s.den)-(self.den*s.num)\n",
        "        den=self.den\n",
        "    f=Fraccion(num,den,1)\n",
        "    print(f'{f.num} / {f.den}')\n",
        "    return f\n",
        "\n",
        "\n",
        "\n",
        "  def imprimir(self):\n",
        "    print(f'{self.num} / {self.den}')"
      ],
      "metadata": {
        "id": "4maV4uKMq4tF"
      },
      "execution_count": 75,
      "outputs": []
    },
    {
      "cell_type": "code",
      "source": [
        "t=Fraccion(4,5,1)\n",
        "t.resta(s)"
      ],
      "metadata": {
        "colab": {
          "base_uri": "https://localhost:8080/"
        },
        "id": "zwSMmdA4rY9s",
        "outputId": "1a906a81-8fec-4db3-bee0-bdd26d0eee5b"
      },
      "execution_count": 76,
      "outputs": [
        {
          "output_type": "stream",
          "name": "stdout",
          "text": [
            "5 / 5\n"
          ]
        },
        {
          "output_type": "execute_result",
          "data": {
            "text/plain": [
              "<__main__.Fraccion at 0x7fce199115d0>"
            ]
          },
          "metadata": {},
          "execution_count": 76
        }
      ]
    },
    {
      "cell_type": "code",
      "source": [
        "class Fraccion: #classs fraccion\n",
        "  def __init__(self,num,den,pot):\n",
        "    self.num=num\n",
        "    self.den=den\n",
        "    self.pot=pot\n",
        "    \n",
        "  def potencia(self):\n",
        "    num=self.num**self.pot\n",
        "    den=self.den**self.pot\n",
        "    pot=self.pot\n",
        "    c=Fraccion(num,den,pot)\n",
        "    print(f'{c.num}/{c.den}')\n",
        "    return c\n",
        "  def producto(self,s):\n",
        "   \n",
        "\n",
        "    num=(self.num*s.num)\n",
        "    den=(self.den*s.den)\n",
        "    fr=Fraccion(num,den,1)\n",
        "    \n",
        "    return f\"{fr.num}/{fr.den}\"\n",
        "    \n",
        "\n",
        "\n",
        "  def imprimir(self):\n",
        "    print(f'{self.num} / {self.den}')\n",
        "\n"
      ],
      "metadata": {
        "id": "zaHR7-ovr3ep"
      },
      "execution_count": 94,
      "outputs": []
    },
    {
      "cell_type": "code",
      "source": [
        "t=Fraccion(4,5,1)\n",
        "t.producto(s)"
      ],
      "metadata": {
        "colab": {
          "base_uri": "https://localhost:8080/",
          "height": 36
        },
        "id": "V1g7u19_r6NB",
        "outputId": "cf2031b6-7101-4ef2-e086-d5849a34a12c"
      },
      "execution_count": 96,
      "outputs": [
        {
          "output_type": "execute_result",
          "data": {
            "text/plain": [
              "'12/25'"
            ],
            "application/vnd.google.colaboratory.intrinsic+json": {
              "type": "string"
            }
          },
          "metadata": {},
          "execution_count": 96
        }
      ]
    },
    {
      "cell_type": "code",
      "source": [
        "class Fraccion: #classs fraccion\n",
        "  def __init__(self,num,den,pot):\n",
        "    self.num=num\n",
        "    self.den=den\n",
        "    self.pot=pot\n",
        "    \n",
        "  def potencia(self):\n",
        "    num=self.num**self.pot\n",
        "    den=self.den**self.pot\n",
        "    pot=self.pot\n",
        "    c=Fraccion(num,den,pot)\n",
        "    return c\n",
        "  def producto(self,s):\n",
        "   \n",
        "\n",
        "    num=(self.num*s.num)\n",
        "    den=self.den*s.den\n",
        "    fr=Fraccion(num,den,1)\n",
        "    \n",
        "    return f\"{fr.num}/{fr.den}\"\n",
        "\n",
        "\n",
        "\n",
        "\n",
        "  def imprimir(self):\n",
        "    print(f'{self.num} / {self.den}')\n",
        "\n",
        "  def div(self,c):\n",
        "    num=self.num*c.den\n",
        "    den=self.den*c.num\n",
        "    frac=Fraccion(num,den,1)\n",
        "    return f'{frac.num}/{frac.den}'\n"
      ],
      "metadata": {
        "id": "W-awe8yGuuBD"
      },
      "execution_count": 85,
      "outputs": []
    },
    {
      "cell_type": "code",
      "source": [
        "t=Fraccion(4,5,1)\n",
        "\n",
        "a=t.div(s)\n"
      ],
      "metadata": {
        "id": "ZZcOUkmIwG7_"
      },
      "execution_count": 88,
      "outputs": []
    },
    {
      "cell_type": "code",
      "source": [
        "print(a)"
      ],
      "metadata": {
        "colab": {
          "base_uri": "https://localhost:8080/"
        },
        "id": "A6Fo6ZawyuOY",
        "outputId": "c6b2dfd3-18ae-44d3-bd14-34f0fdeb0e93"
      },
      "execution_count": 89,
      "outputs": [
        {
          "output_type": "stream",
          "name": "stdout",
          "text": [
            "20/15\n"
          ]
        }
      ]
    },
    {
      "cell_type": "code",
      "source": [
        "class Fraccion: #classs fraccion\n",
        "  def __init__(self,num,den,pot):\n",
        "    self.num=num\n",
        "    self.den=den\n",
        "    self.pot=pot\n",
        "\n",
        "  def potencia(self):\n",
        "    if self.pot==0:\n",
        "      num=1\n",
        "      den=2\n",
        "    elif self.pot<0:\n",
        "      self.num, self.den = self.den,self.num\n",
        "      self.pot=self.pot*-1\n",
        "      num=self.num**self.pot\n",
        "      den=self.den**self.pot\n",
        "    else:\n",
        "      num=self.num**self.pot\n",
        "      den=self.den**self.pot\n",
        "      pot=self.pot\n",
        "    c=Fraccion(num,den,pot)\n",
        "    print(f'{c.num}/{c.den}')\n",
        "    return c\n",
        "  def suma(self,s):\n",
        "    if self.den!=s.den==0:\n",
        "      print(\"No se puede dividir entre 0\")\n",
        "    else: \n",
        "      if self.den!=s.den:\n",
        "        num=(self.num*s.den)+(self.den*s.num)\n",
        "        den=self.den*s.den\n",
        "      else:\n",
        "        num=(self.num*s.den)+(self.den*s.num)\n",
        "        den=self.den\n",
        "      f=Fraccion(num,den,1)\n",
        "      print(f'{f.num}/{f.den}')\n",
        "      return f\n",
        "\n",
        "  def resta(self,s):\n",
        "    if self.den==0 or s.den==0:\n",
        "      print(\"No se puede dividir entre 0\") \n",
        "    else:\n",
        "     if self.den==0 or s.den==0:\n",
        "       print(\"No se puede dividir entre 0\") \n",
        "     else:\n",
        "       if self.den!=s.den:\n",
        "        num=(self.num*s.den)-(self.den*s.num)  \n",
        "        den=self.den*s.den\n",
        "       else:\n",
        "         num=(self.num*s.den)-(self.den*s.num)\n",
        "         den=self.den\n",
        "    f=Fraccion(num,den,1)\n",
        "    print(f'{f.num} / {f.den}')\n",
        "    return f\n",
        "  def producto(self,s):\n",
        "    if self.den==0 or s.den==0:\n",
        "      print(\"No se puede dividir entre 0\") \n",
        "    else:\n",
        "     num=self.num*s.num\n",
        "     den=self.den*s.den\n",
        "     fr=Fraccion(num,den,1)\n",
        "    return f\"{fr.num}/{fr.den}\"\n",
        "\n",
        "  def imprimir(self):\n",
        "    print(f'{self.num} / {self.den}')\n",
        "\n",
        "  def div(self,c):\n",
        "    if self.den==0 or s.den==0:\n",
        "      print(\"No se puede dividir entre 0\")\n",
        "    else:\n",
        "     num=self.num*c.den\n",
        "     den=self.den*c.num \n",
        "     frac=Fraccion(num,den,1)\n",
        "    return f'{frac.num}/{frac.den}'\n",
        "\n",
        "\n"
      ],
      "metadata": {
        "id": "VobyhOyYzTew"
      },
      "execution_count": null,
      "outputs": []
    }
  ]
}