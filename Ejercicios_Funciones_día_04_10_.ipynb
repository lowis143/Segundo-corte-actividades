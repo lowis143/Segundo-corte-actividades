{
  "nbformat": 4,
  "nbformat_minor": 0,
  "metadata": {
    "colab": {
      "provenance": [],
      "collapsed_sections": []
    },
    "kernelspec": {
      "name": "python3",
      "display_name": "Python 3"
    },
    "language_info": {
      "name": "python"
    }
  },
  "cells": [
    {
      "cell_type": "markdown",
      "source": [
        "#Taller de la actividad dia #30 "
      ],
      "metadata": {
        "id": "UbEpnmCvYLVo"
      }
    },
    {
      "cell_type": "markdown",
      "source": [
        "##Ejercicio1\n",
        "### Determine el mayor de dos números.\n"
      ],
      "metadata": {
        "id": "cfqfLbEGcEwi"
      }
    },
    {
      "cell_type": "code",
      "source": [
        "#estas son variables globales\n",
        "a=int(input(\"ingrese un número \"))\n",
        "b=int(input(\"ingrese un número \"))\n",
        "def mayor(a,b):\n",
        "  if a>b:\n",
        "    print(f\" {a} es el mayor\")\n",
        "  else:\n",
        "    print(f\"{b} es el mayor\")\n",
        "print(\"\")\n",
        "mayor(a,b)"
      ],
      "metadata": {
        "colab": {
          "base_uri": "https://localhost:8080/"
        },
        "id": "pUtn4OhScKd4",
        "outputId": "e15ef5e4-2566-4681-ffbc-14e312304939"
      },
      "execution_count": null,
      "outputs": [
        {
          "output_type": "stream",
          "name": "stdout",
          "text": [
            "ingrese un número 9\n",
            "ingrese un número 5\n",
            "\n",
            " 9 es el mayor\n"
          ]
        }
      ]
    },
    {
      "cell_type": "markdown",
      "source": [
        "##Ejercicio 2\n",
        "###Determine el mayor de tres números (empleando la función anterior)."
      ],
      "metadata": {
        "id": "1PoCvzcIgZKD"
      }
    },
    {
      "cell_type": "code",
      "source": [
        "#estas son variables locales\n",
        "a=int(input(\"ingrese un número \"))\n",
        "b=int(input(\"ingrese un número \"))\n",
        "c=int(input(\"ingrese un número \"))\n",
        "def mayor(a,b,c):\n",
        "  if a>b and a>c:\n",
        "    print(f\" {a} es el mayor\")\n",
        "  elif b>c and b>a:\n",
        "    print(f\"{b} es el mayor\")\n",
        "  else:\n",
        "    print(f\"{c} es el mayor\")\n",
        "print(\"\")\n",
        "mayor(a,b,c)"
      ],
      "metadata": {
        "colab": {
          "base_uri": "https://localhost:8080/"
        },
        "id": "IWzhhAHkdkGj",
        "outputId": "9de2d765-8b34-4e58-e736-2798dfd4ecf6"
      },
      "execution_count": null,
      "outputs": [
        {
          "output_type": "stream",
          "name": "stdout",
          "text": [
            "ingrese un número 8\n",
            "ingrese un número 4\n",
            "ingrese un número 9\n",
            "\n",
            "9 es el mayor\n"
          ]
        }
      ]
    },
    {
      "cell_type": "markdown",
      "source": [
        "##Ejercicio 3\n",
        "#### Sumar los números de una lista de 3 elementos. Ejemplo [3,4,5]. Salida: 12"
      ],
      "metadata": {
        "id": "NFkanBpaYRxP"
      }
    },
    {
      "cell_type": "code",
      "execution_count": null,
      "metadata": {
        "colab": {
          "base_uri": "https://localhost:8080/"
        },
        "id": "_vOMDyYsYGN0",
        "outputId": "d17eb574-ab5c-435d-c6a8-c27bc83e2fc1"
      },
      "outputs": [
        {
          "output_type": "stream",
          "name": "stdout",
          "text": [
            "12\n"
          ]
        }
      ],
      "source": [
        "numero1=[3,4,5]\n",
        "\n",
        "a=numero1[0]\n",
        "b=numero1[1]\n",
        "c=numero1[2]\n",
        "\n",
        "def sumar(a,b,c):\n",
        "\n",
        "  x=numero1[0]+numero1[1]+numero1[2]\n",
        "  return x\n",
        "  \n",
        "resultado=sumar(a,b,c)\n",
        "print(resultado)\n",
        "\n",
        "\n"
      ]
    },
    {
      "cell_type": "markdown",
      "source": [
        "##Ejercico 4\n",
        "### Sumar los números de una lista de 4 elementos. Ejemplo [3,4,5,6]. Salida: 18\n"
      ],
      "metadata": {
        "id": "UEDKw8BUaw63"
      }
    },
    {
      "cell_type": "code",
      "source": [
        "numero1=[3,4,5,6]\n",
        "\n",
        "a=numero1[0]\n",
        "b=numero1[1]\n",
        "c=numero1[2]\n",
        "d=numero1[3]\n",
        "\n",
        "def sumar(a,b,c,d):\n",
        "\n",
        "  x=numero1[0]+numero1[1]+numero1[2]+numero1[3]\n",
        "  return x\n",
        "  \n",
        "resultado=sumar(a,b,c,d)\n",
        "print(resultado)\n"
      ],
      "metadata": {
        "colab": {
          "base_uri": "https://localhost:8080/"
        },
        "id": "wIh4Z4ezl7fq",
        "outputId": "83c03895-fb1c-42c4-a640-3f20dff3a8c7"
      },
      "execution_count": null,
      "outputs": [
        {
          "output_type": "stream",
          "name": "stdout",
          "text": [
            "18\n"
          ]
        }
      ]
    },
    {
      "cell_type": "markdown",
      "source": [
        "##Ejercicio 5\n",
        "### Sumar todos los números de una lista. Ejemplo: (8,5,3,1). Salida: 17"
      ],
      "metadata": {
        "id": "uashOCsDpv6N"
      }
    },
    {
      "cell_type": "code",
      "source": [
        "list=()\n"
      ],
      "metadata": {
        "id": "tybocYfDwMzd"
      },
      "execution_count": null,
      "outputs": []
    },
    {
      "cell_type": "markdown",
      "source": [
        "##Ejercicio 6\n",
        "### Multiplicar los números de una lista de 3 elementos. Ejemplo [0,4,5]. Salida: 0"
      ],
      "metadata": {
        "id": "xa9xVuK9q1FM"
      }
    },
    {
      "cell_type": "code",
      "source": [
        "multi=[0,4,5]\n",
        "\n",
        "a=multi[0]\n",
        "b=multi[1]\n",
        "c=multi[2]\n",
        "def multip(a,b,c):\n",
        "\n",
        "  x=multi[0]*multi[1]*multi[2]\n",
        "  return x\n",
        "\n",
        "rta=multip(a,b,c)\n",
        "print(rta)"
      ],
      "metadata": {
        "colab": {
          "base_uri": "https://localhost:8080/"
        },
        "id": "RsY7W3jTq331",
        "outputId": "de794c35-aabd-492a-a458-12f9526af269"
      },
      "execution_count": null,
      "outputs": [
        {
          "output_type": "stream",
          "name": "stdout",
          "text": [
            "0\n"
          ]
        }
      ]
    },
    {
      "cell_type": "markdown",
      "source": [
        "##Ejercicio 7\n",
        "### Multiplicar los números de una lista de 4 elementos. Ejemplo [3,4,5,1]. Salida: 60"
      ],
      "metadata": {
        "id": "df1QB5z3soUG"
      }
    },
    {
      "cell_type": "code",
      "source": [
        "m=[3,4,5,1]\n",
        "\n",
        "a=m[0]\n",
        "b=m[1]\n",
        "c=m[2]\n",
        "d=m[3]\n",
        "\n",
        "def mul (a,b,c,d):\n",
        "  x=m[0]*m[1]*m[2]*m[3]\n",
        "  return x\n",
        "\n",
        "r=mul(a,b,c,d)\n",
        "print(r)"
      ],
      "metadata": {
        "colab": {
          "base_uri": "https://localhost:8080/"
        },
        "id": "33IEVp-Us2hC",
        "outputId": "f17252dd-73d8-4d3a-de65-6a76245bea23"
      },
      "execution_count": null,
      "outputs": [
        {
          "output_type": "stream",
          "name": "stdout",
          "text": [
            "60\n"
          ]
        }
      ]
    },
    {
      "cell_type": "markdown",
      "source": [
        "##Ejercicio 8\n",
        "### Multiplicar todos los números de una lista. Ejemplo: (1,2,3,-1). Salida: -6"
      ],
      "metadata": {
        "id": "zxc6ayKbuBFU"
      }
    },
    {
      "cell_type": "code",
      "source": [],
      "metadata": {
        "id": "wjfLS1VEuGQL"
      },
      "execution_count": null,
      "outputs": []
    },
    {
      "cell_type": "markdown",
      "source": [
        "##Ejercicio 9\n",
        "###Invierta un String. Ejemplo: ingresa Hola y retorna aloH"
      ],
      "metadata": {
        "id": "R2u5WqGpuLCk"
      }
    },
    {
      "cell_type": "code",
      "source": [
        "def invertir(s):\n",
        "  return s[::-1]\n",
        "print(invertir(\"hola\"))"
      ],
      "metadata": {
        "colab": {
          "base_uri": "https://localhost:8080/"
        },
        "id": "50bZhx7vuQTH",
        "outputId": "468eda57-1fb8-4e4b-8e87-dc439fb3e292"
      },
      "execution_count": null,
      "outputs": [
        {
          "output_type": "stream",
          "name": "stdout",
          "text": [
            "aloh\n"
          ]
        }
      ]
    },
    {
      "cell_type": "markdown",
      "source": [
        "##Ejercicio 10\n",
        "### Calcular el factorial de un número"
      ],
      "metadata": {
        "id": "GwF7sQhjwUtK"
      }
    }
  ]
}