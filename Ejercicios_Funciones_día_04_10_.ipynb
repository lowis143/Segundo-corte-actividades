{
  "nbformat": 4,
  "nbformat_minor": 0,
  "metadata": {
    "colab": {
      "provenance": [],
      "collapsed_sections": []
    },
    "kernelspec": {
      "name": "python3",
      "display_name": "Python 3"
    },
    "language_info": {
      "name": "python"
    }
  },
  "cells": [
    {
      "cell_type": "markdown",
      "source": [
        "#Taller de la actividad dia #30 "
      ],
      "metadata": {
        "id": "UbEpnmCvYLVo"
      }
    },
    {
      "cell_type": "markdown",
      "source": [
        "##Ejercicio1\n",
        "### Determine el mayor de dos números.\n"
      ],
      "metadata": {
        "id": "cfqfLbEGcEwi"
      }
    },
    {
      "cell_type": "code",
      "source": [
        "#estas son variables globales\n",
        "a=int(input(\"ingrese un número \"))\n",
        "b=int(input(\"ingrese un número \"))\n",
        "def mayor(a,b):\n",
        "  if a>b:\n",
        "    print(f\" {a} es el mayor\")\n",
        "  else:\n",
        "    print(f\"{b} es el mayor\")\n",
        "print(\"\")\n",
        "mayor(a,b)"
      ],
      "metadata": {
        "colab": {
          "base_uri": "https://localhost:8080/"
        },
        "id": "pUtn4OhScKd4",
        "outputId": "16716228-8a9b-4bdb-aaa5-8c580d8bb32f"
      },
      "execution_count": 25,
      "outputs": [
        {
          "output_type": "stream",
          "name": "stdout",
          "text": [
            "ingrese un número 2\n",
            "ingrese un número 3\n",
            "\n",
            "3 es el mayor\n"
          ]
        }
      ]
    },
    {
      "cell_type": "markdown",
      "source": [
        "##Ejercicio 2\n",
        "###Determine el mayor de tres números (empleando la función anterior)."
      ],
      "metadata": {
        "id": "1PoCvzcIgZKD"
      }
    },
    {
      "cell_type": "code",
      "source": [
        "#estas son variables locales\n",
        "a=int(input(\"ingrese un número \"))\n",
        "b=int(input(\"ingrese un número \"))\n",
        "c=int(input(\"ingrese un número \"))\n",
        "def mayor(a,b,c):\n",
        "  if a>b and a>c:\n",
        "    print(f\" {a} es el mayor\")\n",
        "  elif b>c and b>a:\n",
        "    print(f\"{b} es el mayor\")\n",
        "  else:\n",
        "    print(f\"{c} es el mayor\")\n",
        "print(\"\")\n",
        "mayor(a,b,c)"
      ],
      "metadata": {
        "colab": {
          "base_uri": "https://localhost:8080/"
        },
        "id": "IWzhhAHkdkGj",
        "outputId": "f25a4aab-5f4e-4b1d-a8a0-a48abd0d8dee"
      },
      "execution_count": 26,
      "outputs": [
        {
          "output_type": "stream",
          "name": "stdout",
          "text": [
            "ingrese un número 2\n",
            "ingrese un número 3\n",
            "ingrese un número 4\n",
            "\n",
            "4 es el mayor\n"
          ]
        }
      ]
    },
    {
      "cell_type": "markdown",
      "source": [
        "##Ejercicio 3\n",
        "#### Sumar los números de una lista de 3 elementos. Ejemplo [3,4,5]. Salida: 12"
      ],
      "metadata": {
        "id": "NFkanBpaYRxP"
      }
    },
    {
      "cell_type": "code",
      "execution_count": 27,
      "metadata": {
        "colab": {
          "base_uri": "https://localhost:8080/"
        },
        "id": "_vOMDyYsYGN0",
        "outputId": "202b2769-0d04-4385-8d64-27530f769b8b"
      },
      "outputs": [
        {
          "output_type": "stream",
          "name": "stdout",
          "text": [
            "12\n"
          ]
        }
      ],
      "source": [
        "numero1=[3,4,5]\n",
        "\n",
        "a=numero1[0]\n",
        "b=numero1[1]\n",
        "c=numero1[2]\n",
        "\n",
        "def sumar(a,b,c):\n",
        "\n",
        "  x=numero1[0]+numero1[1]+numero1[2]\n",
        "  return x\n",
        "  \n",
        "resultado=sumar(a,b,c)\n",
        "print(resultado)\n",
        "\n",
        "\n"
      ]
    },
    {
      "cell_type": "markdown",
      "source": [
        "##Ejercico 4\n",
        "### Sumar los números de una lista de 4 elementos. Ejemplo [3,4,5,6]. Salida: 18\n"
      ],
      "metadata": {
        "id": "UEDKw8BUaw63"
      }
    },
    {
      "cell_type": "code",
      "source": [
        "numero1=[3,4,5,6]\n",
        "\n",
        "a=numero1[0]\n",
        "b=numero1[1]\n",
        "c=numero1[2]\n",
        "d=numero1[3]\n",
        "\n",
        "def sumar(a,b,c,d):\n",
        "\n",
        "  x=numero1[0]+numero1[1]+numero1[2]+numero1[3]\n",
        "  return x\n",
        "  \n",
        "resultado=sumar(a,b,c,d)\n",
        "print(resultado)\n"
      ],
      "metadata": {
        "colab": {
          "base_uri": "https://localhost:8080/"
        },
        "id": "wIh4Z4ezl7fq",
        "outputId": "175773fd-d687-469b-fb2f-ec8ec21e6055"
      },
      "execution_count": 28,
      "outputs": [
        {
          "output_type": "stream",
          "name": "stdout",
          "text": [
            "18\n"
          ]
        }
      ]
    },
    {
      "cell_type": "markdown",
      "source": [
        "##Ejercicio 5\n",
        "### Sumar todos los números de una lista. Ejemplo: (8,5,3,1). Salida: 17"
      ],
      "metadata": {
        "id": "uashOCsDpv6N"
      }
    },
    {
      "cell_type": "code",
      "source": [
        "def suma(a,b):\n",
        "  t=0\n",
        "  for d in range(0,a):\n",
        "    t=t+b[d]\n",
        "  return t\n",
        "\n",
        "a=int(input(\"¿cuantos números desea sumar? \"))\n",
        "n=[None]*a\n",
        "for i in range(0,a):\n",
        "  n[i]=int(input(f\"Número {i+1}: \"))\n",
        "print(\"el resultado de la suma es:\",suma(a,n))\n"
      ],
      "metadata": {
        "id": "tybocYfDwMzd",
        "colab": {
          "base_uri": "https://localhost:8080/"
        },
        "outputId": "b5994ca3-6ace-4fe5-a890-a98f469c7861"
      },
      "execution_count": 7,
      "outputs": [
        {
          "output_type": "stream",
          "name": "stdout",
          "text": [
            "¿cuantos números desea sumar? 2\n",
            "Número 1: 2\n",
            "Número 2: 2\n",
            "el resultado de la suma es: 4\n"
          ]
        }
      ]
    },
    {
      "cell_type": "markdown",
      "source": [
        "##Ejercicio 6\n",
        "### Multiplicar los números de una lista de 3 elementos. Ejemplo [0,4,5]. Salida: 0"
      ],
      "metadata": {
        "id": "xa9xVuK9q1FM"
      }
    },
    {
      "cell_type": "code",
      "source": [
        "multi=[0,4,5]\n",
        "\n",
        "a=multi[0]\n",
        "b=multi[1]\n",
        "c=multi[2]\n",
        "def multip(a,b,c):\n",
        "\n",
        "  x=multi[0]*multi[1]*multi[2]\n",
        "  return x\n",
        "\n",
        "rta=multip(a,b,c)\n",
        "print(rta)"
      ],
      "metadata": {
        "colab": {
          "base_uri": "https://localhost:8080/"
        },
        "id": "RsY7W3jTq331",
        "outputId": "fa0167e4-6b7f-4738-e184-46d1f280fb2a"
      },
      "execution_count": 29,
      "outputs": [
        {
          "output_type": "stream",
          "name": "stdout",
          "text": [
            "0\n"
          ]
        }
      ]
    },
    {
      "cell_type": "markdown",
      "source": [
        "##Ejercicio 7\n",
        "### Multiplicar los números de una lista de 4 elementos. Ejemplo [3,4,5,1]. Salida: 60"
      ],
      "metadata": {
        "id": "df1QB5z3soUG"
      }
    },
    {
      "cell_type": "code",
      "source": [
        "m=[3,4,5,1]\n",
        "\n",
        "a=m[0]\n",
        "b=m[1]\n",
        "c=m[2]\n",
        "d=m[3]\n",
        "\n",
        "def mul (a,b,c,d):\n",
        "  x=m[0]*m[1]*m[2]*m[3]\n",
        "  return x\n",
        "\n",
        "r=mul(a,b,c,d)\n",
        "print(r)"
      ],
      "metadata": {
        "colab": {
          "base_uri": "https://localhost:8080/"
        },
        "id": "33IEVp-Us2hC",
        "outputId": "92ec8a9d-4ea0-4db2-a0ba-c174c23b7f57"
      },
      "execution_count": 30,
      "outputs": [
        {
          "output_type": "stream",
          "name": "stdout",
          "text": [
            "60\n"
          ]
        }
      ]
    },
    {
      "cell_type": "markdown",
      "source": [
        "##Ejercicio 8\n",
        "### Multiplicar todos los números de una lista. Ejemplo: (1,2,3,-1). Salida: -6"
      ],
      "metadata": {
        "id": "zxc6ayKbuBFU"
      }
    },
    {
      "cell_type": "code",
      "source": [
        "def multi(a,b):\n",
        "  t=1\n",
        "  for d in range(0,a):\n",
        "    t=t*b[d]\n",
        "  return t\n",
        "\n",
        "a=int(input(\"¿cuantos números desea multiplicar? \"))\n",
        "n=[None]*a\n",
        "for i in range(0,a):\n",
        "  n[i]=int(input(f\"Número {i+1}: \"))\n",
        "print(\"el resultado de la multiplicación es:\",multi(a,n))\n"
      ],
      "metadata": {
        "id": "wjfLS1VEuGQL",
        "colab": {
          "base_uri": "https://localhost:8080/"
        },
        "outputId": "d771c5da-607e-4838-9354-30518f58e0b6"
      },
      "execution_count": 37,
      "outputs": [
        {
          "output_type": "stream",
          "name": "stdout",
          "text": [
            "¿cuantos números desea multiplicar? 4\n",
            "Número 1: 1\n",
            "Número 2: 2\n",
            "Número 3: 3\n",
            "Número 4: -1\n",
            "el resultado de la multiplicación es: -6\n"
          ]
        }
      ]
    },
    {
      "cell_type": "markdown",
      "source": [
        "##Ejercicio 9\n",
        "###Invierta un String. Ejemplo: ingresa Hola y retorna aloH"
      ],
      "metadata": {
        "id": "R2u5WqGpuLCk"
      }
    },
    {
      "cell_type": "code",
      "source": [
        "def invertir(s):\n",
        "  return s[::-1]\n",
        "print(invertir(\"hola\"))"
      ],
      "metadata": {
        "colab": {
          "base_uri": "https://localhost:8080/"
        },
        "id": "50bZhx7vuQTH",
        "outputId": "bbd01efd-2c43-44ce-e4c6-09a1479ce677"
      },
      "execution_count": 32,
      "outputs": [
        {
          "output_type": "stream",
          "name": "stdout",
          "text": [
            "aloh\n"
          ]
        }
      ]
    },
    {
      "cell_type": "markdown",
      "source": [
        "##Ejercicio 10\n",
        "### Calcular el factorial de un número"
      ],
      "metadata": {
        "id": "GwF7sQhjwUtK"
      }
    },
    {
      "cell_type": "code",
      "source": [
        "def f(n):\n",
        "  if(n==0):\n",
        "    return 1\n",
        "  else:\n",
        "    return n*f(n-1)\n",
        "n=int(input(\"ingrese un número \"))\n",
        "print(\"El factorial de: \"+str(n)+ \" es \"+str(f(n)))"
      ],
      "metadata": {
        "colab": {
          "base_uri": "https://localhost:8080/"
        },
        "id": "EGbC_1G4KHRG",
        "outputId": "04b36ccd-c3c4-4e35-cb40-e1766344f61f"
      },
      "execution_count": 40,
      "outputs": [
        {
          "output_type": "stream",
          "name": "stdout",
          "text": [
            "ingrese un número 5\n",
            "El factorial de: 5 es 120\n"
          ]
        }
      ]
    }
  ]
}