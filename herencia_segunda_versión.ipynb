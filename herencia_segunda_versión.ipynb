{
  "nbformat": 4,
  "nbformat_minor": 0,
  "metadata": {
    "colab": {
      "provenance": []
    },
    "kernelspec": {
      "name": "python3",
      "display_name": "Python 3"
    },
    "language_info": {
      "name": "python"
    }
  },
  "cells": [
    {
      "cell_type": "code",
      "execution_count": 17,
      "metadata": {
        "id": "VvtqSni7T4-2"
      },
      "outputs": [],
      "source": [
        "class Saiayin():\n",
        "  def __init__(self,nombre,estatura):\n",
        "    self.nombre=nombre\n",
        "    self._ccabello=\"negro\"\n",
        "    self.cojos=\"negro\"\n",
        "    self.__cola_mono=True\n",
        "    self.estatura=estatura\n",
        "\n",
        "  def cambio_color(self,putisteria):\n",
        "    if putisteria>=4000 and putisteria<100000:\n",
        "      self._ccabello=\"rubio\"\n",
        "      self.cojos=\"aguamarina\"\n",
        "    if putisteria>=100000 and putisteria<=200000:\n",
        "      self._ccabello=\"rojo\"\n",
        "      self.cojos=\"rosita\"\n",
        "    if putisteria>=200000 and putisteria<=500000:\n",
        "      self._ccabello=\"azul\"\n",
        "      self.cojos=\"azul azul\"\n",
        "    if putisteria>=500000 and putisteria<=1000000:\n",
        "      self._ccabello=\"cenizo\"\n",
        "      self.cojos=\"plateado\"\n",
        "    else:\n",
        "      self._ccabello=\"negro\"\n",
        "      self.cojos=\"negro\"\n",
        "  def trabajo(self,t):\n",
        "    if t==1: print(self.nombre, \"es guerrero\")\n",
        "    elif t==2: print(f\"{self.nombre} es liendra de freezer\")\n",
        "    elif t==3: print(f\"{self.nombre} es mercenario\")\n",
        "    elif t==4: print(f\"{self.nombre} es de la realeza\")\n",
        "    else:print(f\"{self.nombre} es un muerto de hambre :v\")"
      ]
    },
    {
      "cell_type": "code",
      "source": [
        "class Humano():\n",
        "  def __init__(self,nombre,ccabello,cojos,estatura):\n",
        "    self.nombre=nombre\n",
        "    self._ccabello=ccabello\n",
        "    self.cojos=cojos\n",
        "    self.estatura=estatura\n",
        "\n",
        "  def cambio_color(self,tinte):\n",
        "    if tinte==1:\n",
        "      self.ccabello=\"rubio\"\n",
        "      self.cojos=\"aguamarina\"\n",
        "    if tinte==2:\n",
        "      self.ccabello=\"rojo\"\n",
        "      self.cojos=\"rosita\"\n",
        "    if tinte==3:\n",
        "      self.ccabello=\"azul\"\n",
        "      self.cojos=\"azul azul\"\n",
        "    if tinte==0:\n",
        "      self.ccabello=\"cenizo\"\n",
        "      self.cojos=\"plateado\"\n",
        "    else:\n",
        "      self.ccabello=\"ocre\"\n",
        "      self.cojos=\"miel\"\n",
        "\n",
        "  def trabajo(self,t):\n",
        "    if t==1: print(self.nombre, \"es periodista\")\n",
        "    elif t==2: print(f\"{self.nombre} es politico\")\n",
        "    elif t==3: print(f\"{self.nombre} es de la patrulla roja\")\n",
        "    elif t==4: print(f\"{self.nombre} trabaja en capsule corps\")\n",
        "    elif t==5: print(f\"{self.nombre} es policia\")\n",
        "    elif t==6: print(f\"{self.nombre} es granjero\")\n",
        "    else:print(f\"{self.nombre} es un muerto de hambre :v\")"
      ],
      "metadata": {
        "id": "5JdnQ3WHaSpe"
      },
      "execution_count": 18,
      "outputs": []
    },
    {
      "cell_type": "code",
      "source": [
        "class Hibrido(Saiayin,Humano):\n",
        "  def __init__(self,ccabello,cojos,colamono,nombre,estatura):\n",
        "    super().__init__(colamono,nombremestatura)\n",
        "    self.ccabello=ccabello\n",
        "    self.cojos=cojos\n",
        "\n",
        "  def cambio_color(self,a):\n",
        "    super().cambio_color(a)\n",
        "    if a>=1000000000 and a<1000000000000:\n",
        "      self.ccabello=\"blanco\"\n",
        "      self.cojos=\"rojos\""
      ],
      "metadata": {
        "id": "O3WBcHcUbUg-"
      },
      "execution_count": 42,
      "outputs": []
    },
    {
      "cell_type": "code",
      "source": [
        "saya1=Saiayin(\"jhonsito\",180)"
      ],
      "metadata": {
        "id": "UMr6qAomZ1rO"
      },
      "execution_count": 32,
      "outputs": []
    },
    {
      "cell_type": "code",
      "source": [
        "saya1.cambio_color(100000)"
      ],
      "metadata": {
        "id": "gP1zPHQCb0zr"
      },
      "execution_count": 43,
      "outputs": []
    },
    {
      "cell_type": "code",
      "source": [
        "human=Humano(\"carlitos\",\"negro\",\"marrón\",170)"
      ],
      "metadata": {
        "id": "4XFATzUTbrBT"
      },
      "execution_count": 44,
      "outputs": []
    },
    {
      "cell_type": "code",
      "source": [
        "human.cambio_color"
      ],
      "metadata": {
        "colab": {
          "base_uri": "https://localhost:8080/"
        },
        "id": "BOMKSLHgeCpl",
        "outputId": "117be1ff-8d61-46a1-b2e7-0a0303c6e102"
      },
      "execution_count": 41,
      "outputs": [
        {
          "output_type": "execute_result",
          "data": {
            "text/plain": [
              "<bound method Humano.cambio_color of <__main__.Humano object at 0x7fd81f4de910>>"
            ]
          },
          "metadata": {},
          "execution_count": 41
        }
      ]
    },
    {
      "cell_type": "code",
      "source": [
        "saya1.__dict__"
      ],
      "metadata": {
        "colab": {
          "base_uri": "https://localhost:8080/"
        },
        "id": "NrG2rSMpb8sj",
        "outputId": "6f9bc507-5ea0-4a07-b0c4-292e157ad1cc"
      },
      "execution_count": 45,
      "outputs": [
        {
          "output_type": "execute_result",
          "data": {
            "text/plain": [
              "{'nombre': 'jhonsito',\n",
              " '_ccabello': 'negro',\n",
              " 'cojos': 'negro',\n",
              " '_Saiayin__cola_mono': True,\n",
              " 'estatura': 180}"
            ]
          },
          "metadata": {},
          "execution_count": 45
        }
      ]
    }
  ]
}