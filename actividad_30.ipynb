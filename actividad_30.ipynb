{
  "nbformat": 4,
  "nbformat_minor": 0,
  "metadata": {
    "colab": {
      "provenance": []
    },
    "kernelspec": {
      "name": "python3",
      "display_name": "Python 3"
    },
    "language_info": {
      "name": "python"
    }
  },
  "cells": [
    {
      "cell_type": "code",
      "execution_count": 13,
      "metadata": {
        "colab": {
          "base_uri": "https://localhost:8080/"
        },
        "id": "7C7vF8tQM6PS",
        "outputId": "25c45d4b-468c-41e0-e2fc-bee033a52e65"
      },
      "outputs": [
        {
          "output_type": "stream",
          "name": "stdout",
          "text": [
            "20\n",
            "19\n",
            "tengo 20 años y mi mejor amigo tiene 19 años\n"
          ]
        }
      ],
      "source": [
        "#ejercicio 1\n",
        "def calcularEdad(ano_actual,ano_nacimiento):\n",
        " \n",
        "  #if (ano_actal == \"2022\" and ano_nacimiento==\"2002\"):\n",
        "    #return True\n",
        "  #else:\n",
        "    #return False \n",
        "  x=ano_actual-ano_nacimiento\n",
        "  return x\n",
        "miedad=calcularEdad(2022,2002)\n",
        "print(miedad)\n",
        "def calcularEdad(ano_actual,ano_nacimiento):\n",
        "  y=ano_actual-ano_nacimiento\n",
        "  return y\n",
        "edadmejor=calcularEdad(2022,2003)\n",
        "print(edadmejor)\n",
        "print(\"tengo\",miedad,\"años\",\"y mi mejor amigo tiene\",edadmejor,\"años\")"
      ]
    },
    {
      "cell_type": "code",
      "source": [
        "\n",
        "#ejercicio 2\n",
        "def informacionpersonal ():\n",
        "  nombre=\"Juana de Arco\"\n",
        "  edad=19\n",
        "  country=\"Francia\"\n",
        "  return (nombre,edad,country)\n",
        "(nombre,edad,country)=informacionpersonal()\n",
        "\n",
        "print(nombre + \", de \" + country + \", tiene \" + str(edad) + \" años de edad.\")\n",
        "\n",
        "\n"
      ],
      "metadata": {
        "colab": {
          "base_uri": "https://localhost:8080/"
        },
        "id": "XkUkfstrRJ8u",
        "outputId": "90fee13d-6546-45c2-9a1d-b599777049ff"
      },
      "execution_count": 43,
      "outputs": [
        {
          "output_type": "stream",
          "name": "stdout",
          "text": [
            "Juana de Arco, de Francia, tiene 19 años de edad.\n"
          ]
        }
      ]
    }
  ]
}