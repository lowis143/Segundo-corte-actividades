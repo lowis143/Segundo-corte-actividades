{
  "nbformat": 4,
  "nbformat_minor": 0,
  "metadata": {
    "colab": {
      "provenance": []
    },
    "kernelspec": {
      "name": "python3",
      "display_name": "Python 3"
    },
    "language_info": {
      "name": "python"
    }
  },
  "cells": [
    {
      "cell_type": "markdown",
      "source": [
        "#Ejercico profesora :)"
      ],
      "metadata": {
        "id": "w5tXmU61FxgW"
      }
    },
    {
      "cell_type": "code",
      "execution_count": 3,
      "metadata": {
        "colab": {
          "base_uri": "https://localhost:8080/"
        },
        "id": "nMrnBqRbFts4",
        "outputId": "87c6ac83-6419-467d-bf5f-9a489c291cd1"
      },
      "outputs": [
        {
          "output_type": "execute_result",
          "data": {
            "text/plain": [
              "{'Nombre': 'Luis Miguel', 'Código': 'U00164097', 'Edad': 20}"
            ]
          },
          "metadata": {},
          "execution_count": 3
        }
      ],
      "source": [
        "Datos={\"Nombre\" : \"Luis Miguel\", \"Código\" :\"U00164097\", \"Edad\" :20}\n",
        "Datos"
      ]
    },
    {
      "cell_type": "markdown",
      "source": [
        "#Introducción "
      ],
      "metadata": {
        "id": "Ruzh8N2xIGTV"
      }
    },
    {
      "cell_type": "markdown",
      "source": [
        "#Cómo usar la comprensión de diccionario para crear un diccionario de Python a partir de una iteración\n",
        "\n",
        "podemos crear un nuevo diccionario en Python usando solamente un iterable si elegimos generar ya sea las claves o los valores en marcha.\n",
        "\n",
        "cuando elegimos generar los valores en cuestión, podemos usar los items en el iterable cómo claves y viceversa. La sintaxis general es mostrada abajo. Por favor, observa que los nombres entre <> son marcadores de posición para los nombres actuales de las variables "
      ],
      "metadata": {
        "id": "VP2ehmP7IdxO"
      }
    },
    {
      "cell_type": "markdown",
      "source": [
        "#Ejemplo 1\n",
        "supongamos que tenemos una lista de clientes que visitan nuestra tienda, y nos gustaria ofrecer un descuento aleatorio a cada cliente. Nos gustaria además, que el valor de descuento se encuentra entre 1 y 100 \n",
        "\n",
        "En Python, random.randint(i,j) retorna un valor entre i y j incluyendo ambos extremos. Por tanto podemos utilizar la función randint(), para generar un descuento entre 1 y 100 ára cada cliente en la lista.\n",
        "\n",
        "El siguiente código nos mostrará cómo podemos crear un diccionario de descuentos a partir de la lista de clientes."
      ],
      "metadata": {
        "id": "pqRRu1cJIJ5c"
      }
    },
    {
      "cell_type": "markdown",
      "source": [
        "##Santiago carvajal"
      ],
      "metadata": {
        "id": "fT-jIepnS2zP"
      }
    },
    {
      "cell_type": "code",
      "source": [
        "#Por comprensión\n",
        "import random\n",
        "clientes=[\"Alex\",\"Bob\",\"Carol\",\"Dave\",\"Flow\",\"  katie\",\"Nate\"]\n",
        "diccionario_descuento={cliente:random.randint(1,100) for cliente in clientes}\n",
        "print(diccionario_descuento)\n",
        "#Resultado"
      ],
      "metadata": {
        "colab": {
          "base_uri": "https://localhost:8080/"
        },
        "id": "FIZWQKfAH0AN",
        "outputId": "ac21a848-67c2-48cc-e0b6-c8f2f26693bd"
      },
      "execution_count": 4,
      "outputs": [
        {
          "output_type": "stream",
          "name": "stdout",
          "text": [
            "{'Alex': 21, 'Bob': 83, 'Carol': 87, 'Dave': 30, 'Flow': 28, '  katie': 8, 'Nate': 33}\n"
          ]
        }
      ]
    },
    {
      "cell_type": "code",
      "source": [
        "#Por lambda \n",
        "import random\n",
        "clientes=[\"Alex\",\"Bob\",\"Carol\",\"Dave\",\"Flow\",\"  katie\",\"Nate\"]\n",
        "diccionario_descuento=(dict(map(lambda diccionario_descuento:(diccionario_descuento,random.randint(1,100)),clientes )))\n",
        "print(diccionario_descuento)"
      ],
      "metadata": {
        "colab": {
          "base_uri": "https://localhost:8080/"
        },
        "id": "oz9IySKrIugF",
        "outputId": "0cb06d48-c1f5-4e5e-98c7-96bccfb965d0"
      },
      "execution_count": 5,
      "outputs": [
        {
          "output_type": "stream",
          "name": "stdout",
          "text": [
            "{'Alex': 53, 'Bob': 96, 'Carol': 84, 'Dave': 8, 'Flow': 54, '  katie': 95, 'Nate': 32}\n"
          ]
        }
      ]
    },
    {
      "cell_type": "markdown",
      "source": [
        "##Juan David Vargas"
      ],
      "metadata": {
        "id": "xayFn2o3JfrA"
      }
    },
    {
      "cell_type": "code",
      "source": [
        "productos=['milk','bread','butter','apple','banana','candy','water','ice cream','sugar']\n",
        "precio={3,4,10,2,5,4.5,3.2,9,5,6.5}\n",
        "\n",
        "precio_productos ={productos:precio for (productos,precio)in zip (productos,precio)}\n",
        "\n",
        "print(precio_productos)"
      ],
      "metadata": {
        "colab": {
          "base_uri": "https://localhost:8080/"
        },
        "id": "zLXNwm0sJgxy",
        "outputId": "8f87c90f-6079-43f5-a412-42bb81a70341"
      },
      "execution_count": 17,
      "outputs": [
        {
          "output_type": "stream",
          "name": "stdout",
          "text": [
            "{'milk': 2, 'bread': 3, 'butter': 4, 'apple': 5, 'banana': 4.5, 'candy': 3.2, 'water': 6.5, 'ice cream': 9, 'sugar': 10}\n"
          ]
        }
      ]
    },
    {
      "cell_type": "code",
      "source": [
        "Descuentos ={productos:precio for (productos, precio)in precio_productos.items()if precio<5}\n",
        "\n",
        "print(Descuentos)"
      ],
      "metadata": {
        "colab": {
          "base_uri": "https://localhost:8080/"
        },
        "id": "MIVqM4vjJr79",
        "outputId": "6bbca678-1571-4321-e2d5-f295673ee6f7"
      },
      "execution_count": 18,
      "outputs": [
        {
          "output_type": "stream",
          "name": "stdout",
          "text": [
            "{'milk': 2, 'bread': 3, 'butter': 4, 'banana': 4.5, 'candy': 3.2}\n"
          ]
        }
      ]
    },
    {
      "cell_type": "markdown",
      "source": [
        "##Jaime Rueda"
      ],
      "metadata": {
        "id": "6lYWUCdSKcZO"
      }
    },
    {
      "cell_type": "code",
      "source": [
        "#Ejercicios por comprensión\n",
        "productos={'papas':1300,'jugos':1800,'helados':2300,'dulces':800,'leche':4200}\n",
        "operación={x:y*1.19 for (x,y)in productos.items()}\n",
        "print(f'el precio sin IVA de los productos es: {productos}')\n",
        "print(\"\")\n",
        "print(f'El precio con IVA de los productos es:{operación}')\n"
      ],
      "metadata": {
        "colab": {
          "base_uri": "https://localhost:8080/"
        },
        "id": "3l3_pjfUKdre",
        "outputId": "9068d727-5ba7-4580-b4ab-eb0f9f730776"
      },
      "execution_count": 6,
      "outputs": [
        {
          "output_type": "stream",
          "name": "stdout",
          "text": [
            "el precio sin IVA de los productos es: {'papas': 1300, 'jugos': 1800, 'helados': 2300, 'dulces': 800, 'leche': 4200}\n",
            "\n",
            "El precio con IVA de los productos es:{'papas': 1547.0, 'jugos': 2142.0, 'helados': 2737.0, 'dulces': 952.0, 'leche': 4998.0}\n"
          ]
        }
      ]
    },
    {
      "cell_type": "code",
      "source": [
        "#Por lambda\n",
        "\n",
        "tienda={'papas':1300,'jugos':1800,'helados':2300,'dulces':800,'leche':4200}\n",
        "compra=['papas','jugos','helados','dulces','leche']\n",
        "\n",
        "IVA=dict(map(lambda prodcucto:(producto, tienda[producto])if producto in tienda else (producto, None), compra))\n",
        "IVA\n"
      ],
      "metadata": {
        "colab": {
          "base_uri": "https://localhost:8080/",
          "height": 227
        },
        "id": "86OGwZ69L1Mz",
        "outputId": "ae9a5a06-0100-4a96-dd04-767923b882a7"
      },
      "execution_count": 9,
      "outputs": [
        {
          "output_type": "error",
          "ename": "TypeError",
          "evalue": "ignored",
          "traceback": [
            "\u001b[0;31m---------------------------------------------------------------------------\u001b[0m",
            "\u001b[0;31mTypeError\u001b[0m                                 Traceback (most recent call last)",
            "\u001b[0;32m<ipython-input-9-67e86f3b8272>\u001b[0m in \u001b[0;36m<module>\u001b[0;34m\u001b[0m\n\u001b[1;32m      4\u001b[0m \u001b[0mcompra\u001b[0m\u001b[0;34m=\u001b[0m\u001b[0;34m[\u001b[0m\u001b[0;34m'papas'\u001b[0m\u001b[0;34m,\u001b[0m\u001b[0;34m'jugos'\u001b[0m\u001b[0;34m,\u001b[0m\u001b[0;34m'helados'\u001b[0m\u001b[0;34m,\u001b[0m\u001b[0;34m'dulces'\u001b[0m\u001b[0;34m,\u001b[0m\u001b[0;34m'leche'\u001b[0m\u001b[0;34m]\u001b[0m\u001b[0;34m\u001b[0m\u001b[0;34m\u001b[0m\u001b[0m\n\u001b[1;32m      5\u001b[0m \u001b[0;34m\u001b[0m\u001b[0m\n\u001b[0;32m----> 6\u001b[0;31m \u001b[0mIVA\u001b[0m\u001b[0;34m=\u001b[0m\u001b[0mdict\u001b[0m\u001b[0;34m[\u001b[0m\u001b[0mmap\u001b[0m\u001b[0;34m(\u001b[0m\u001b[0;32mlambda\u001b[0m \u001b[0mprodcucto\u001b[0m\u001b[0;34m:\u001b[0m\u001b[0;34m(\u001b[0m\u001b[0mproducto\u001b[0m\u001b[0;34m,\u001b[0m \u001b[0mtienda\u001b[0m\u001b[0;34m[\u001b[0m\u001b[0mproducto\u001b[0m\u001b[0;34m]\u001b[0m\u001b[0;34m)\u001b[0m\u001b[0;32mif\u001b[0m \u001b[0mproducto\u001b[0m \u001b[0;32min\u001b[0m \u001b[0mtienda\u001b[0m \u001b[0;32melse\u001b[0m \u001b[0;34m(\u001b[0m\u001b[0mproducto\u001b[0m\u001b[0;34m,\u001b[0m \u001b[0;32mNone\u001b[0m\u001b[0;34m)\u001b[0m\u001b[0;34m,\u001b[0m \u001b[0mcompra\u001b[0m\u001b[0;34m)\u001b[0m\u001b[0;34m]\u001b[0m\u001b[0;34m\u001b[0m\u001b[0;34m\u001b[0m\u001b[0m\n\u001b[0m\u001b[1;32m      7\u001b[0m \u001b[0mIVA\u001b[0m\u001b[0;34m\u001b[0m\u001b[0;34m\u001b[0m\u001b[0m\n",
            "\u001b[0;31mTypeError\u001b[0m: 'type' object is not subscriptable"
          ]
        }
      ]
    },
    {
      "cell_type": "markdown",
      "source": [
        "##Leandro"
      ],
      "metadata": {
        "id": "-FBaFA9VLOqj"
      }
    },
    {
      "cell_type": "code",
      "source": [
        "def check_temp(value):\n",
        "  if value >=70:\n",
        "    return \"HOT\"\n",
        "  elif 69 >= value >=40:\n",
        "    return \"warm\"\n",
        "  else:\n",
        "    return \"cold\"\n",
        "  \n",
        "cities ={\"new york\": 32, \"Boston\": 75, \"los angeles\": 100, \"chicago\":50}\n",
        "des_cities={key: check_temp(value) for (key, value) in cities.items()}\n",
        "print(des_cities)"
      ],
      "metadata": {
        "colab": {
          "base_uri": "https://localhost:8080/"
        },
        "id": "kwXRvRcYLQxT",
        "outputId": "5d7d2e93-7ac5-42c6-dd41-b5d794c1a79e"
      },
      "execution_count": 16,
      "outputs": [
        {
          "output_type": "stream",
          "name": "stdout",
          "text": [
            "{'new york': 'cold', 'Boston': 'HOT', 'los angeles': 'HOT', 'chicago': 'warm'}\n"
          ]
        }
      ]
    },
    {
      "cell_type": "code",
      "source": [
        "def check_temp(value):\n",
        "  if value >=70:\n",
        "    return \"HOT\"\n",
        "  elif 69 >= value >=40:\n",
        "    return \"warm\"\n",
        "  else:\n",
        "    return \"cold\"\n",
        "\n",
        "cities ={\"new york\": 32, \"Boston\": 75, \"los angeles\": 100, \"chicago\":50}\n",
        "des_cities= dict[map(lambda cit: check_temp(cities.values(cit), cities.items()))]"
      ],
      "metadata": {
        "id": "RBUEGaFtPQ9z"
      },
      "execution_count": null,
      "outputs": []
    },
    {
      "cell_type": "markdown",
      "source": [
        "##Sebastian zambrano"
      ],
      "metadata": {
        "id": "HSj6CVGoPtrk"
      }
    },
    {
      "cell_type": "code",
      "source": [
        "#normal\n",
        "import random\n",
        "compañeros=[]\n",
        "def aleatorio(opciones):\n",
        "  opciones= list(opciones)\n",
        "  while True:\n",
        "    x=random.choice(opciones)\n",
        "    opciones.remove(x)\n",
        "    yield x\n",
        "print(\"para no agregar ,ás nombres ingrese '0'\")\n",
        "a=\"t\"\n",
        "while a!=\"0\":\n",
        "  a=(input(\"ingresa el nombre de tu compañero: \"))\n",
        "  if a!=\"0\":\n",
        "    compañeros.append(a)\n",
        "cantidad=len(compañeros)\n",
        "contador=0\n",
        "numeros=[]\n",
        "while contador !=(cantidad+1):\n",
        "  contador+=1\n",
        "  numeros.append(contador)\n",
        "alt=aleatorio(numeros)\n",
        "num_alt={}\n",
        "for s in range(cantidad):\n",
        "  num_alt[compañeros[s]]=next(alt)\n",
        "print(num_alt)"
      ],
      "metadata": {
        "colab": {
          "base_uri": "https://localhost:8080/"
        },
        "id": "t1BX6FLCPvTj",
        "outputId": "48305424-dfb2-4cd3-f784-5bd0446ea05b"
      },
      "execution_count": 20,
      "outputs": [
        {
          "output_type": "stream",
          "name": "stdout",
          "text": [
            "para no agregar ,ás nombres ingrese '0'\n",
            "ingresa el nombre de tu compañero: luis\n",
            "ingresa el nombre de tu compañero: marco\n",
            "ingresa el nombre de tu compañero: 0\n",
            "{'luis': 2, 'marco': 1}\n"
          ]
        }
      ]
    },
    {
      "cell_type": "code",
      "source": [
        "#por comprensión\n",
        "numeros=len(compañeros)\n",
        "numeros=[num for num in range(1, (cantidad+1))]\n",
        "alt=aleatorio(numeros)\n",
        "num_alt={orden:next(alt) for orden in compañeros}\n",
        "print(num_alt)\n"
      ],
      "metadata": {
        "colab": {
          "base_uri": "https://localhost:8080/"
        },
        "id": "RygibW2rRW4A",
        "outputId": "2469d28a-e626-4ec7-8db1-f9a00ff1cfef"
      },
      "execution_count": 21,
      "outputs": [
        {
          "output_type": "stream",
          "name": "stdout",
          "text": [
            "{'luis': 2, 'marco': 1}\n"
          ]
        }
      ]
    },
    {
      "cell_type": "code",
      "source": [
        "#por lambda\n",
        "valores=[n for n in range(1,cantidad+1)]\n",
        "numeros=list(map(lambda num: num, valores))\n",
        "alt=aleatorio(numeros)\n",
        "num_alt=dict(map(lambda orden: (orden, next(alt)), compañeros))\n",
        "print(num_alt)"
      ],
      "metadata": {
        "colab": {
          "base_uri": "https://localhost:8080/"
        },
        "id": "2EOrL8TIR4Jj",
        "outputId": "eea39ec0-feea-4955-8747-88099d3359b2"
      },
      "execution_count": 24,
      "outputs": [
        {
          "output_type": "stream",
          "name": "stdout",
          "text": [
            "{'luis': 1, 'marco': 2}\n"
          ]
        }
      ]
    },
    {
      "cell_type": "markdown",
      "source": [
        "##Daniel Rodriguez"
      ],
      "metadata": {
        "id": "FStn1gkPSpOR"
      }
    },
    {
      "cell_type": "code",
      "source": [
        "#Normal\n",
        "diccionario=[\"cliente 1\", \"cliente 2\", \"cliente 3\", \"cliente 4\", \"cliente 5\"]\n",
        "tienda={diccionario: random.randint(1000,100000) for diccionario in diccionario}\n",
        "tienda_sort=sorted(tienda.values())\n",
        "mayor=tienda_sort[-1]\n",
        "mayor1=tienda_sort[4::]\n",
        "cliente=list(tienda.values()).index(mayor)\n",
        "\n",
        "if cliente==0:\n",
        "  a=\"cliente 1\"\n",
        "if cliente==1:\n",
        "  a=\"cliente 2\"\n",
        "if cliente==2:\n",
        "  a=\"cliente 3\"\n",
        "if cliente==3:\n",
        "  a=\"cliente 4\"\n",
        "if cliente==4:\n",
        "  a=\"cliente 5\"\n",
        "\n",
        "oferta={producto*0.8 for producto in mayor1}\n",
        "print(f\"el {a} tuvo la mayor compra con un valor de: {mayor}, por lo tanto obtuvo un descuento del 20%, su total  fue: {oferta}\")\n"
      ],
      "metadata": {
        "colab": {
          "base_uri": "https://localhost:8080/"
        },
        "id": "mCosCxo6UUXR",
        "outputId": "59d2268d-57b1-4c87-b376-cc629e04aa14"
      },
      "execution_count": 26,
      "outputs": [
        {
          "output_type": "stream",
          "name": "stdout",
          "text": [
            "el cliente 1 tuvo la mayor compra con un valor de: 99972, por lo tanto obtuvo un descuento del 20%, su total  fue: {79977.6}\n"
          ]
        }
      ]
    },
    {
      "cell_type": "code",
      "source": [
        "#Por función \n",
        "diccionario=[\"cliente 1\", \"cliente 2\", \"cliente 3\", \"cliente 4\", \"cliente 5\"]\n",
        "def cositas(a):\n",
        "  tienda={diccionario: random.randint(1000,100000) for diccionario in diccionario}\n",
        "  tienda_sort= sorted(tienda.values())\n",
        "mayor=tienda_sort[-1]\n",
        "mayor1=tienda_sort[4::]\n",
        "cliente=list(tienda.values()).index(mayor)\n",
        "\n",
        "if cliente==0:\n",
        "  a=\"cliente 1\"\n",
        "if cliente==1:\n",
        "  a=\"cliente 2\"\n",
        "if cliente==2:\n",
        "  a=\"cliente 3\"\n",
        "if cliente==3:\n",
        "  a=\"cliente 4\"\n",
        "if cliente==4:\n",
        "  a=\"cliente 5\"\n",
        "oferta={producto*0.8 for producto in mayor1}\n",
        "print(f\"el {a} tuvo la mayor compra con un valor de: {mayor}, por lo tanto obtuvo un descuento del 20%, su total  fue: {oferta}\")\n",
        "cositas(diccionario)"
      ],
      "metadata": {
        "colab": {
          "base_uri": "https://localhost:8080/"
        },
        "id": "6wiaMkOdV06Q",
        "outputId": "02841d8c-568b-4f08-891f-f04753d18f86"
      },
      "execution_count": 28,
      "outputs": [
        {
          "output_type": "stream",
          "name": "stdout",
          "text": [
            "el cliente 1 tuvo la mayor compra con un valor de: 99972, por lo tanto obtuvo un descuento del 20%, su total  fue: {79977.6}\n"
          ]
        }
      ]
    },
    {
      "cell_type": "code",
      "source": [
        "#Por lambda\n",
        "\n",
        "diccionario=[\"cliente 1\", \"cliente 2\", \"cliente 3\", \"cliente 4\", \"cliente 5\"]\n",
        "tienda=(dict(map(lambda tienda: (tienda,random.randint(1000,100000)), diccionario)))\n",
        "tienda_sort= sorted(tienda.values())\n",
        "mayor=tienda_sort[-1]\n",
        "mayor1=tienda_sort[4::]\n",
        "cliente=list(tienda.values()).index(mayor)\n",
        "oferta={producto*0.8 for producto in mayor1}\n",
        "cositas=max(tienda,key=tienda.get)\n",
        "print(f\"el {cositas} tuvo la mayor compra con un valor de: {mayor}, por lo tanto obtuvo un descuento del 20%, su total fue: {oferta}\")"
      ],
      "metadata": {
        "colab": {
          "base_uri": "https://localhost:8080/"
        },
        "id": "sobmO4HPW2ol",
        "outputId": "524fb821-d01c-4d28-9b24-23563031c36a"
      },
      "execution_count": 29,
      "outputs": [
        {
          "output_type": "stream",
          "name": "stdout",
          "text": [
            "el cliente 5 tuvo la mayor compra con un valor de: 90678, por lo tanto obtuvo un descuento del 20%, su total fue: {72542.40000000001}\n"
          ]
        }
      ]
    },
    {
      "cell_type": "markdown",
      "source": [
        "##Adrian parra"
      ],
      "metadata": {
        "id": "22YxE0_cX4Fe"
      }
    },
    {
      "cell_type": "code",
      "source": [
        "#comprensión\n",
        "nombre=str(input(\"ingrese el nombre del atleta: \"))\n",
        "N=int(input(\"Ingrese el número de saltos: \"))\n",
        "\n",
        "def fun(nombre,a):\n",
        "  lista=[]\n",
        "  for i in range(0,a):\n",
        "    name=str(f\"Salto {i+1}\")\n",
        "    lista.append(name)\n",
        "\n",
        "  print(\"la altura de los saltos se mide en metors\")\n",
        "  dic_lista={lista: float(input(f\"ingrese la altura del salto: \")) for lista in lista}\n",
        "  distancia=sorted(dic_lista.values())\n",
        "  mayor=distancia[-1]\n",
        "  print(f\"altela{nombre}:\")\n",
        "  print(dic_lista)\n",
        "  sum=0\n",
        "  for i in dic_lista.values():\n",
        "    sum+=1\n",
        "  prom=sum/a\n",
        "  redprom=round(prom,2)\n",
        "  print(f\" El promedio de los {a} saltos es de {redprom} metros, teniendo el mayor fue aquel con {mayor} metros de altura\")\n",
        "fun(nombre, N)"
      ],
      "metadata": {
        "colab": {
          "base_uri": "https://localhost:8080/"
        },
        "id": "v4SgdMsDX81E",
        "outputId": "0030d7e8-f9b9-4e2e-a905-68a9e1db5c9b"
      },
      "execution_count": 31,
      "outputs": [
        {
          "output_type": "stream",
          "name": "stdout",
          "text": [
            "ingrese el nombre del atleta: luis\n",
            "Ingrese el número de saltos: 3\n",
            "la altura de los saltos se mide en metors\n",
            "ingrese la altura del salto: 9\n",
            "ingrese la altura del salto: 8\n",
            "ingrese la altura del salto: 7\n",
            "altelaluis:\n",
            "{'Salto 1': 9.0, 'Salto 2': 8.0, 'Salto 3': 7.0}\n",
            " El promedio de los 3 saltos es de 1.0 metros, teniendo el mayor fue aquel con 9.0 metros de altura\n"
          ]
        }
      ]
    },
    {
      "cell_type": "code",
      "source": [
        "from ast import arg\n",
        "#Lambda\n",
        "from functools import reduce\n",
        "\n",
        "nombre=str(input(\"ingrese el nombre del atleta: \"))\n",
        "a=int(input(\"ingrese el numero de saltos: \"))\n",
        "lista=[]\n",
        "for i in range(0,a):\n",
        "  name=str(f\"salto {i+1}\")\n",
        "  lista.append(name)\n",
        "\n",
        "print(\"la altura de los saltos se mide en metors\")\n",
        "dic_lista=(dict(map(lambda x:(x, float(input(f\"ingrese la altura del salto: \"))), lista)))\n",
        "distancia=sorted(dic_lista.values())\n",
        "mayor=distancia[-1]\n",
        "print(f\"atleta {nombre}:\")\n",
        "print(dic_lista)\n",
        "\n",
        "sum=reduce(lambda distancia, distancia1:distancia+distancia1, distancia)\n",
        "\n",
        "prom=float(sum)/a\n",
        "redprom=round(prom, 2)\n",
        "print(f\" el promedio de los {a} saltos es de {redprom} metros, teniendo que  el mayor fue aquel con {mayor} metros de altura\")\n",
        "\n"
      ],
      "metadata": {
        "colab": {
          "base_uri": "https://localhost:8080/"
        },
        "id": "tQegNCc1aUI3",
        "outputId": "907b14c3-411e-4396-8a08-72085e4b9707"
      },
      "execution_count": 32,
      "outputs": [
        {
          "output_type": "stream",
          "name": "stdout",
          "text": [
            "ingrese el nombre del atleta: luis\n",
            "ingrese el numero de saltos: 3\n",
            "la altura de los saltos se mide en metors\n",
            "ingrese la altura del salto: 9\n",
            "ingrese la altura del salto: 5\n",
            "ingrese la altura del salto: 8\n",
            "atleta luis:\n",
            "{'salto 1': 9.0, 'salto 2': 5.0, 'salto 3': 8.0}\n",
            " el promedio de los 3 saltos es de 7.33 metros, teniendo que  el mayor fue aquel con 9.0 metros de altura\n"
          ]
        }
      ]
    },
    {
      "cell_type": "markdown",
      "source": [
        "##Santiago galindo"
      ],
      "metadata": {
        "id": "BZnquLfdcGFc"
      }
    },
    {
      "cell_type": "code",
      "source": [
        "#normal \n",
        "from typing_extensions import DefaultDict\n",
        "import random\n",
        "cs=[\"Andru\",\"David\",\"Sebas\"]\n",
        "CS=[\"Andres\",\"Flowey\",\"Cata\",\"Karen\"]\n",
        "DD={cs:random.randint(1,50) for cs in cs}\n",
        "DD1={CS:random.randint(1,50) for CS in CS}\n",
        "print(DD,DD1)"
      ],
      "metadata": {
        "colab": {
          "base_uri": "https://localhost:8080/"
        },
        "id": "O9_9F0Q6cJgt",
        "outputId": "eeed35f7-f8e1-4877-9026-a1931f94fff0"
      },
      "execution_count": 34,
      "outputs": [
        {
          "output_type": "stream",
          "name": "stdout",
          "text": [
            "{'Andru': 47, 'David': 38, 'Sebas': 11} {'Andres': 29, 'Flowey': 48, 'Cata': 18, 'Karen': 24}\n"
          ]
        }
      ]
    },
    {
      "cell_type": "code",
      "source": [
        "#Def\n",
        "def A():\n",
        "  cs=[\"Andru\",\"David\",\"Sebas\"]\n",
        "  CS=[\"Andres\",\"Flowey\",\"Cata\",\"Karen\"]\n",
        "  DD={cs:random.randint(1,50) for cs in cs}\n",
        "  DD1={CS:random.randint(1,50) for CS in CS}\n",
        "  return DD, DD1\n",
        "A()"
      ],
      "metadata": {
        "colab": {
          "base_uri": "https://localhost:8080/"
        },
        "id": "mpDP6WWYd76F",
        "outputId": "e7c408f1-47a9-4551-ea0a-85d07e34fbd7"
      },
      "execution_count": 35,
      "outputs": [
        {
          "output_type": "execute_result",
          "data": {
            "text/plain": [
              "({'Andru': 15, 'David': 21, 'Sebas': 47},\n",
              " {'Andres': 47, 'Flowey': 14, 'Cata': 46, 'Karen': 50})"
            ]
          },
          "metadata": {},
          "execution_count": 35
        }
      ]
    },
    {
      "cell_type": "code",
      "source": [
        "#Lambda\n",
        "cs=[\"Andru\",\"David\",\"Sebas\"]\n",
        "CS=[\"Andres\",\"Flowey\",\"Cata\",\"Karen\"]\n",
        "DD=(dict(map(lambda DD:(DD,random.randint(1,50)),cs)))\n",
        "DD1=(dict(map(lambda DD1:(DD1,random.randint(1,50)),CS)))\n",
        "\n",
        "print(DD,DD1)"
      ],
      "metadata": {
        "colab": {
          "base_uri": "https://localhost:8080/"
        },
        "id": "8bJSrX6qe7xN",
        "outputId": "6fb90b34-ef63-430e-af2d-b608c92d60c5"
      },
      "execution_count": 36,
      "outputs": [
        {
          "output_type": "stream",
          "name": "stdout",
          "text": [
            "{'Andru': 44, 'David': 39, 'Sebas': 48} {'Andres': 29, 'Flowey': 18, 'Cata': 33, 'Karen': 38}\n"
          ]
        }
      ]
    },
    {
      "cell_type": "markdown",
      "source": [
        "##Juan Arenales"
      ],
      "metadata": {
        "id": "QoApnGpngol6"
      }
    },
    {
      "cell_type": "code",
      "source": [
        "#comprensión \n",
        "import pandas as pd\n",
        "import random\n",
        "def menu(C,E,N,n):\n",
        "  b=int(input(\"Menú:\\n1)Añadir contacto\\n2)Eliminar contacto\\n3)lista de contacto\\n4)Darle emojis aleatorios  \\n\"))\n",
        "  if b==1:\n",
        "    d=input(\"Nombre: \")\n",
        "    f=d in N \n",
        "    while f==True:\n",
        "      d=input(\"Ya existe un contacto con ese nombre, escoja otro: \")\n",
        "      f=d in C[\"Nombre\"]\n",
        "    e=input(\"Número: \")\n",
        "    N.append(d)\n",
        "    n.append(e)\n",
        "    if b==2:\n",
        "      o=int(input(\"1)Eliminar por nombre\\n2)Eliminar por número\\n\"))\n",
        "      if o==1:\n",
        "        d=input(\"Nombre: \")\n",
        "        f=d in N\n",
        "        if f==False:\n",
        "          print(\"no existe un contacto con ese nombre\") \n",
        "        else:\n",
        "          i=N.imdex(d)\n",
        "          N.pop(i)\n",
        "          n.po(i)\n",
        "      if o==2:\n",
        "        e=input(\"Número: \")\n",
        "        h= e in N\n",
        "        if h==False:\n",
        "          print(\"No existe un contacto con ese número\")\n",
        "        else:\n",
        "          i=n.index(e)\n",
        "          N.pop(i)\n",
        "          n.pop(i)\n",
        "      if b==3:\n",
        "        C={N[z]: n[z] for z in range(len(N))}\n",
        "        print(C)\n",
        "      if b==4:\n",
        "        C={N[z]: (n[z],E[random.randint(0,3)])for z in range(len(N))}\n",
        "        print(pd.Dataframe.form_dict(c))\n",
        "      return C\n",
        "    c={}\n",
        "    E=[\"B)\",\":)\",\"<3\",\">:v\"]\n",
        "    N=[\"juan\",\"Kyle\"]\n",
        "    n=[\"453\",\"64782\"]\n",
        "    a=True\n",
        "   "
      ],
      "metadata": {
        "id": "opLxeTgXgrSg"
      },
      "execution_count": 39,
      "outputs": []
    }
  ]
}