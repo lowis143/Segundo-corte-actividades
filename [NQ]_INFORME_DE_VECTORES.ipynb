{
  "nbformat": 4,
  "nbformat_minor": 0,
  "metadata": {
    "colab": {
      "provenance": []
    },
    "kernelspec": {
      "name": "python3",
      "display_name": "Python 3"
    },
    "language_info": {
      "name": "python"
    }
  },
  "cells": [
    {
      "cell_type": "markdown",
      "source": [
        "#VECTORES"
      ],
      "metadata": {
        "id": "tFpUcGJ9uob4"
      }
    },
    {
      "cell_type": "markdown",
      "source": [
        "##X DIRECTA=0.5, Y DIRECTA=0.5"
      ],
      "metadata": {
        "id": "EM3VMs6kufno"
      }
    },
    {
      "cell_type": "markdown",
      "source": [
        "## Representación de un vector 2D\n",
        "\n",
        "Ejemplo: \n",
        "$\\vec{a}=a_x \\hat{i}+a_x \\hat{j}$"
      ],
      "metadata": {
        "id": "LwexSZ8qrURT"
      }
    },
    {
      "cell_type": "code",
      "execution_count": 16,
      "metadata": {
        "colab": {
          "base_uri": "https://localhost:8080/",
          "height": 444
        },
        "id": "ZYWaPWzDrMk9",
        "outputId": "c0f3a939-200a-4443-c2c6-f542c6843ec7"
      },
      "outputs": [
        {
          "output_type": "display_data",
          "data": {
            "text/plain": [
              "<Figure size 864x504 with 1 Axes>"
            ],
            "image/png": "[encoded data removed]"
          },
          "metadata": {
            "needs_background": "light"
          }
        }
      ],
      "source": [
        "\n",
        "import matplotlib.pyplot as plt\n",
        " \n",
        " \n",
        "# Creando coordenadas\n",
        "x_pos = 0\n",
        "y_pos = 0\n",
        "x_direct = 0.5\n",
        "y_direct = 0.5\n",
        " \n",
        "\n",
        "fig, ax = plt.subplots(figsize = (12, 7))\n",
        "ax.quiver(x_pos, y_pos, x_direct, y_direct,scale=2)\n",
        "ax.set_title('Gráfica de vectores')\n",
        "ax.set_xlim(-1,2)\n",
        "ax.set_ylim(-1,2)\n",
        "ax.set_aspect('equal', adjustable='box')\n",
        " \n",
        "# Mostrar gráfica\n",
        "plt.show()"
      ]
    },
    {
      "cell_type": "markdown",
      "source": [
        "##Hallar el módulo y dirección \n",
        "$|\\vec{a}| = \\sqrt{a_x^2 + a_y^2}$ \n",
        "\n",
        "$\\theta = tan^{-1} (\\frac{a_y}{a_x})$"
      ],
      "metadata": {
        "id": "4jkyV8-krwKd"
      }
    },
    {
      "cell_type": "code",
      "source": [
        "\n",
        "import numpy as np\n",
        "\n",
        "ax_pos = 0\n",
        "ay_pos = 0\n",
        "ax_direct = 0.5\n",
        "ay_direct = 0.5\n",
        "mod_a = (ax_direct**2+ay_direct**2)**0.5\n",
        "print(f'el módulo del vector es {mod_a:.2} unidades')\n",
        "print(\"\")\n",
        "\n",
        "theta = np.arctan2(ax_direct, ay_direct)*180/np.pi\n",
        "print(f'La direccón es {theta:.2}°, con respecto al eje x')"
      ],
      "metadata": {
        "colab": {
          "base_uri": "https://localhost:8080/"
        },
        "id": "dBVb4LK_r63i",
        "outputId": "9f8cbd0e-7324-4ffb-f9ec-d49f6ef19843"
      },
      "execution_count": 17,
      "outputs": [
        {
          "output_type": "stream",
          "name": "stdout",
          "text": [
            "el módulo del vector es 0.71 unidades\n",
            "\n",
            "La direccón es 4.5e+01°, con respecto al eje x\n"
          ]
        }
      ]
    },
    {
      "cell_type": "markdown",
      "source": [
        "## Representación de dos vectores 2D\n",
        "\n",
        "Ejemplo: \n",
        "\n",
        "$\\vec{a}=a_x \\hat{i}+a_x \\hat{j}$\n",
        "\n",
        "$\\vec{b}=b_x \\hat{i}+b_x \\hat{j}$"
      ],
      "metadata": {
        "id": "5XBUdDptsVtb"
      }
    },
    {
      "cell_type": "code",
      "source": [
        "\n",
        "import matplotlib.pyplot as plt\n",
        " \n",
        " \n",
        "\n",
        "x_pos = [0, 0]\n",
        "y_pos = [0, 0]\n",
        "x_direct = [0.5, -0.5]\n",
        "y_direct = [0.5, -0.5]\n",
        "\n",
        "fig, ax = plt.subplots(figsize = (12, 7))\n",
        "ax.quiver(x_pos, y_pos, x_direct, y_direct,color = ['red','blue'], scale=2)\n",
        "ax.set_title('Gráfica de vectores')\n",
        "ax.set_xlim(-1,1)\n",
        "ax.set_ylim(-1,1)\n",
        "ax.set_aspect('equal', adjustable='box')\n",
        " \n",
        "\n",
        "plt.show()"
      ],
      "metadata": {
        "colab": {
          "base_uri": "https://localhost:8080/",
          "height": 444
        },
        "id": "To-s_A8FsXTp",
        "outputId": "5022b306-1fd7-408a-d0c9-40d58a4edfc9"
      },
      "execution_count": 15,
      "outputs": [
        {
          "output_type": "display_data",
          "data": {
            "text/plain": [
              "<Figure size 864x504 with 1 Axes>"
            ],
            "image/png": "[encoded data removed]"
          },
          "metadata": {
            "needs_background": "light"
          }
        }
      ]
    },
    {
      "cell_type": "markdown",
      "source": [
        "## Suma de dos vectores 2D\n",
        "\n",
        "Ejemplo: \n",
        "\n",
        "$\\vec{a}=a_x \\hat{i}+a_x \\hat{j}$\n",
        "\n",
        "$\\vec{b}=b_x \\hat{i}+b_x \\hat{j}$\n",
        "\n",
        "...........................\n",
        "\n",
        "$\\vec{c}=c_x \\hat{i}+c_x \\hat{j}$"
      ],
      "metadata": {
        "id": "URzLBgBXtfks"
      }
    },
    {
      "cell_type": "code",
      "source": [
        "\n",
        "import matplotlib.pyplot as plt\n",
        " \n",
        " \n",
        "\n",
        "x_pos = [0, 0, 0]\n",
        "y_pos = [0, 0, 0]\n",
        "x_direct = [0.3, -0.5]\n",
        "y_direct = [-0.2, 0.4]\n",
        "x_direct.append(sum(x_direct))\n",
        "y_direct.append(sum(y_direct))\n",
        "\n",
        "fig, ax = plt.subplots(figsize = (12, 7))\n",
        "ax.quiver(x_pos, y_pos, x_direct, y_direct,color = ['red','blue','black'], scale=2/1.5)\n",
        "ax.set_title('Gráfica de vectores')\n",
        "ax.set_xlim(-10,10)\n",
        "ax.set_ylim(-10,10)\n",
        "ax.set_aspect('equal', adjustable='box')\n",
        " \n",
        "\n",
        "plt.show()"
      ],
      "metadata": {
        "colab": {
          "base_uri": "https://localhost:8080/",
          "height": 444
        },
        "id": "3vXDk2istgkt",
        "outputId": "b09ddee1-966d-4921-de67-7fa7d4b3eec3"
      },
      "execution_count": 18,
      "outputs": [
        {
          "output_type": "display_data",
          "data": {
            "text/plain": [
              "<Figure size 864x504 with 1 Axes>"
            ],
            "image/png": "[encoded data removed]"
          },
          "metadata": {
            "needs_background": "light"
          }
        }
      ]
    }
  ]
}