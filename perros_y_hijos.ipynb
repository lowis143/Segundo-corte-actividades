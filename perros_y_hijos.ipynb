{
  "nbformat": 4,
  "nbformat_minor": 0,
  "metadata": {
    "colab": {
      "provenance": []
    },
    "kernelspec": {
      "name": "python3",
      "display_name": "Python 3"
    },
    "language_info": {
      "name": "python"
    }
  },
  "cells": [
    {
      "cell_type": "code",
      "execution_count": 50,
      "metadata": {
        "id": "OcEbhcGvglgq"
      },
      "outputs": [],
      "source": [
        "class Perros():\n",
        "  def ladra(self):\n",
        "    print(\"GUAAU GUAAU\")\n",
        "  def gruñir(self):\n",
        "    print(\"GRRRRRRR GRRRRR\")"
      ]
    },
    {
      "cell_type": "code",
      "source": [
        "class caniches(Perros):\n",
        "  def ladrar(self):\n",
        "    print(\" guau guau guau guau\")\n",
        "  def grunir(self):\n",
        "    print(\"gñiiii gñiiii gñiiii\")\n"
      ],
      "metadata": {
        "id": "2MynoSObg8YD"
      },
      "execution_count": 51,
      "outputs": []
    },
    {
      "cell_type": "code",
      "source": [
        "class Pastor_Aleman(Perros):\n",
        "  def ladrar(self):\n",
        "    print(\"GuaaUUU GUAAAUUU GuaUUUU\")\n",
        "  def grunir(self):\n",
        "    print(\"Agrrgrrrff agrrrfsgrr\")"
      ],
      "metadata": {
        "id": "kN2keEjThen6"
      },
      "execution_count": 52,
      "outputs": []
    },
    {
      "cell_type": "code",
      "source": [
        "class shepadoodle(caniches, Pastor_Aleman):\n",
        "  def xladrar(self,veces):\n",
        "    for cuantas in range(veces):\n",
        "      super(shepadoodle,self).ladrar( )"
      ],
      "metadata": {
        "id": "PLH2IMN3hyrQ"
      },
      "execution_count": 53,
      "outputs": []
    },
    {
      "cell_type": "code",
      "source": [
        "Tommy=Pastor_Aleman()\n",
        "lulu=caniches()\n",
        "milu=shepadoodle()\n",
        "milu.xladrar(2)"
      ],
      "metadata": {
        "colab": {
          "base_uri": "https://localhost:8080/"
        },
        "id": "zvQ_C5Glifiz",
        "outputId": "8146718c-1190-473b-a247-ed73895ccf5d"
      },
      "execution_count": 54,
      "outputs": [
        {
          "output_type": "stream",
          "name": "stdout",
          "text": [
            " guau guau guau guau\n",
            " guau guau guau guau\n"
          ]
        }
      ]
    },
    {
      "cell_type": "code",
      "source": [
        "class Asignar(list):\n",
        "  pass"
      ],
      "metadata": {
        "id": "MPft1qy4irhR"
      },
      "execution_count": 55,
      "outputs": []
    },
    {
      "cell_type": "code",
      "source": [
        "a=Asignar()"
      ],
      "metadata": {
        "id": "UE_MVk_wkbA-"
      },
      "execution_count": 56,
      "outputs": []
    },
    {
      "cell_type": "code",
      "source": [
        "a.append(4)"
      ],
      "metadata": {
        "id": "IW93iOOxkeJ1"
      },
      "execution_count": 57,
      "outputs": []
    },
    {
      "cell_type": "code",
      "source": [
        "class Padre():\n",
        "  def __init__(self,ojos,cejas):\n",
        "    self.ojos=ojos\n",
        "    self.cejas=cejas\n",
        "class Hijo(Padre):\n",
        "  def __init__(self,ojos,cejas,cara):\n",
        "    self.ojos=ojos\n",
        "    self.cejas=cejas\n",
        "    self.cara=cara"
      ],
      "metadata": {
        "id": "RfZF4pBWkmq0"
      },
      "execution_count": 58,
      "outputs": []
    },
    {
      "cell_type": "code",
      "source": [
        "manuel=Padre(\"Marrón\",\"miel\")\n",
        "Tomas=Hijo(\"Rubio\",\"verdes\",\"larga\")\n",
        "print(Tomas.ojos,Tomas.cejas,Tomas.cara)"
      ],
      "metadata": {
        "colab": {
          "base_uri": "https://localhost:8080/"
        },
        "id": "aSWZDIKHlqvB",
        "outputId": "897b2e23-63ad-4011-f180-26c68d81a60a"
      },
      "execution_count": 63,
      "outputs": [
        {
          "output_type": "stream",
          "name": "stdout",
          "text": [
            "Rubio verdes larga\n"
          ]
        }
      ]
    },
    {
      "cell_type": "code",
      "source": [
        "class Abuelo():\n",
        "  def __init__(self,ojos,cejas):\n",
        "    self.ojos=ojos\n",
        "    self.cejas=cejas\n",
        "\n",
        "class Hijo2(Abuelo):\n",
        "  def __init__(self,ojos,cejas,cara):\n",
        "    super().__init__(ojos,cejas)\n",
        "    self.cara=cara"
      ],
      "metadata": {
        "id": "6K0HFEwImC0H"
      },
      "execution_count": 69,
      "outputs": []
    },
    {
      "cell_type": "code",
      "source": [
        "Abuelo=Abuelo(\"Negro\",\"marrón\")\n",
        "Mateo=Hijo2(\"marrón\",\"marrón\",\"gordita\")\n"
      ],
      "metadata": {
        "id": "IJ4axslymba-"
      },
      "execution_count": 70,
      "outputs": []
    }
  ]
}